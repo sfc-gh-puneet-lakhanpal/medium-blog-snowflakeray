{
 "cells": [
  {
   "cell_type": "markdown",
   "id": "c074602e-bf58-476d-8746-5108449a80d8",
   "metadata": {},
   "source": [
    "# Distributed HPO with Ray"
   ]
  },
  {
   "cell_type": "markdown",
   "id": "5a3f1d2f-9186-44b4-a2a6-377872612c53",
   "metadata": {},
   "source": [
    "##### Training a simple XGBoost classifier without Ray"
   ]
  },
  {
   "cell_type": "code",
   "execution_count": 1,
   "id": "62f5d229-4d2b-4678-a6b6-8cdf83f847c1",
   "metadata": {},
   "outputs": [
    {
     "name": "stdout",
     "output_type": "stream",
     "text": [
      "Accuracy: 0.9301\n"
     ]
    }
   ],
   "source": [
    "import sklearn.datasets\n",
    "import sklearn.metrics\n",
    "from sklearn.model_selection import train_test_split\n",
    "import xgboost as xgb\n",
    "\n",
    "\n",
    "def train_breast_cancer(config):\n",
    "    # Load dataset\n",
    "    data, labels = sklearn.datasets.load_breast_cancer(return_X_y=True)\n",
    "    # Split into train and test set\n",
    "    train_x, test_x, train_y, test_y = train_test_split(data, labels, test_size=0.25)\n",
    "    # Build input matrices for XGBoost\n",
    "    train_set = xgb.DMatrix(train_x, label=train_y)\n",
    "    test_set = xgb.DMatrix(test_x, label=test_y)\n",
    "    # Train the classifier\n",
    "    results = {}\n",
    "    bst = xgb.train(\n",
    "        config,\n",
    "        train_set,\n",
    "        evals=[(test_set, \"eval\")],\n",
    "        evals_result=results,\n",
    "        verbose_eval=False,\n",
    "    )\n",
    "    return results\n",
    "\n",
    "\n",
    "results = train_breast_cancer(\n",
    "    {\"objective\": \"binary:logistic\", \"eval_metric\": [\"logloss\", \"error\"]}\n",
    ")\n",
    "accuracy = 1.0 - results[\"eval\"][\"error\"][-1]\n",
    "print(f\"Accuracy: {accuracy:.4f}\")"
   ]
  },
  {
   "cell_type": "markdown",
   "id": "a023d298-59f1-4a50-8890-a0c94be1eb45",
   "metadata": {},
   "source": [
    "##### Still Training with some parameters but without Ray"
   ]
  },
  {
   "cell_type": "code",
   "execution_count": 2,
   "id": "250d481d-3b80-4157-97c4-10804ee0ff33",
   "metadata": {},
   "outputs": [
    {
     "name": "stdout",
     "output_type": "stream",
     "text": [
      "Accuracy: 0.9301\n"
     ]
    }
   ],
   "source": [
    "config = {\n",
    "    \"objective\": \"binary:logistic\",\n",
    "    \"eval_metric\": [\"logloss\", \"error\"],\n",
    "    \"max_depth\": 2,\n",
    "    \"min_child_weight\": 0,\n",
    "    \"subsample\": 0.8,\n",
    "    \"eta\": 0.2,\n",
    "}\n",
    "results = train_breast_cancer(config)\n",
    "accuracy = 1.0 - results[\"eval\"][\"error\"][-1]\n",
    "print(f\"Accuracy: {accuracy:.4f}\")"
   ]
  },
  {
   "cell_type": "markdown",
   "id": "b210a782-280f-48d8-96b1-1f30223fdd57",
   "metadata": {},
   "source": [
    "### What distributed HPO looks like with Ray"
   ]
  },
  {
   "cell_type": "code",
   "execution_count": 3,
   "id": "554692c6-141a-4bb8-9fd3-aaa8ee5937e5",
   "metadata": {},
   "outputs": [],
   "source": [
    "import sklearn.datasets\n",
    "import sklearn.metrics\n",
    "\n",
    "from ray import train, tune"
   ]
  },
  {
   "cell_type": "code",
   "execution_count": 4,
   "id": "16245b7b-45e0-4e20-876a-af6d951addbf",
   "metadata": {},
   "outputs": [],
   "source": [
    "def train_breast_cancer(config):\n",
    "    # Load dataset\n",
    "    data, labels = sklearn.datasets.load_breast_cancer(return_X_y=True)\n",
    "    # Split into train and test set\n",
    "    train_x, test_x, train_y, test_y = train_test_split(data, labels, test_size=0.25)\n",
    "    # Build input matrices for XGBoost\n",
    "    train_set = xgb.DMatrix(train_x, label=train_y)\n",
    "    test_set = xgb.DMatrix(test_x, label=test_y)\n",
    "    # Train the classifier\n",
    "    results = {}\n",
    "    xgb.train(\n",
    "        config,\n",
    "        train_set,\n",
    "        evals=[(test_set, \"eval\")],\n",
    "        evals_result=results,\n",
    "        verbose_eval=False,\n",
    "    )\n",
    "    # Return prediction accuracy\n",
    "    accuracy = 1.0 - results[\"eval\"][\"error\"][-1]\n",
    "    train.report({\"mean_accuracy\": accuracy, \"done\": True})"
   ]
  },
  {
   "cell_type": "code",
   "execution_count": 5,
   "id": "06d3f342-21db-45c8-8d41-cd8a8dceeb07",
   "metadata": {},
   "outputs": [],
   "source": [
    "config = {\n",
    "    \"objective\": \"binary:logistic\",\n",
    "    \"eval_metric\": [\"logloss\", \"error\"],\n",
    "    \"max_depth\": tune.randint(1, 9),\n",
    "    \"min_child_weight\": tune.choice([1, 2, 3]),\n",
    "    \"subsample\": tune.uniform(0.5, 1.0),\n",
    "    \"eta\": tune.loguniform(1e-4, 1e-1),\n",
    "}"
   ]
  },
  {
   "cell_type": "code",
   "execution_count": 6,
   "id": "ab34fa09-85f1-4341-afa7-6caadc899b1c",
   "metadata": {},
   "outputs": [],
   "source": [
    "tuner = tune.Tuner(\n",
    "    train_breast_cancer,\n",
    "    tune_config=tune.TuneConfig(num_samples=10),\n",
    "    param_space=config,\n",
    ")"
   ]
  },
  {
   "cell_type": "code",
   "execution_count": 7,
   "id": "ae0ef341-9f41-4d76-8b71-3d2936140cba",
   "metadata": {},
   "outputs": [
    {
     "name": "stderr",
     "output_type": "stream",
     "text": [
      "2024-04-24 03:15:01,053\tINFO worker.py:1540 -- Connecting to existing Ray cluster at address: 10.244.21.11:6379...\n",
      "2024-04-24 03:15:03,161\tINFO worker.py:1715 -- Connected to Ray cluster. View the dashboard at \u001b[1m\u001b[32mhttp://10.244.21.11:8265 \u001b[39m\u001b[22m\n",
      "[2024-04-24 03:15:03,164 I 8619 8619] logging.cc:230: Set ray log level from environment variable RAY_BACKEND_LOG_LEVEL to -1\n"
     ]
    },
    {
     "data": {
      "application/vnd.jupyter.widget-view+json": {
       "model_id": "18fce253792244c8bbcf7ef1c3d099b3",
       "version_major": 2,
       "version_minor": 0
      },
      "text/html": [
       "<div class=\"lm-Widget p-Widget lm-Panel p-Panel jp-Cell-outputWrapper\">\n",
       "    <div style=\"margin-left: 50px;display: flex;flex-direction: row;align-items: center\">\n",
       "        <div class=\"jp-RenderedHTMLCommon\" style=\"display: flex; flex-direction: row;\">\n",
       "  <svg viewBox=\"0 0 567 224\" fill=\"none\" xmlns=\"http://www.w3.org/2000/svg\" style=\"height: 3em;\">\n",
       "    <g clip-path=\"url(#clip0_4338_178347)\">\n",
       "        <path d=\"M341.29 165.561H355.29L330.13 129.051C345.63 123.991 354.21 112.051 354.21 94.2307C354.21 71.3707 338.72 58.1807 311.88 58.1807H271V165.561H283.27V131.661H311.8C314.25 131.661 316.71 131.501 319.01 131.351L341.25 165.561H341.29ZM283.29 119.851V70.0007H311.82C331.3 70.0007 342.34 78.2907 342.34 94.5507C342.34 111.271 331.34 119.861 311.82 119.861L283.29 119.851ZM451.4 138.411L463.4 165.561H476.74L428.74 58.1807H416L367.83 165.561H380.83L392.83 138.411H451.4ZM446.19 126.601H398L422 72.1407L446.24 126.601H446.19ZM526.11 128.741L566.91 58.1807H554.35L519.99 114.181L485.17 58.1807H472.44L514.01 129.181V165.541H526.13V128.741H526.11Z\" fill=\"var(--jp-ui-font-color0)\"/>\n",
       "        <path d=\"M82.35 104.44C84.0187 97.8827 87.8248 92.0678 93.1671 87.9146C98.5094 83.7614 105.083 81.5067 111.85 81.5067C118.617 81.5067 125.191 83.7614 130.533 87.9146C135.875 92.0678 139.681 97.8827 141.35 104.44H163.75C164.476 101.562 165.622 98.8057 167.15 96.2605L127.45 56.5605C121.071 60.3522 113.526 61.6823 106.235 60.3005C98.9443 58.9187 92.4094 54.9203 87.8602 49.0574C83.3109 43.1946 81.0609 35.8714 81.5332 28.4656C82.0056 21.0599 85.1679 14.0819 90.4252 8.8446C95.6824 3.60726 102.672 0.471508 110.08 0.0272655C117.487 -0.416977 124.802 1.86091 130.647 6.4324C136.493 11.0039 140.467 17.5539 141.821 24.8501C143.175 32.1463 141.816 39.6859 138 46.0505L177.69 85.7505C182.31 82.9877 187.58 81.4995 192.962 81.4375C198.345 81.3755 203.648 82.742 208.33 85.3976C213.012 88.0532 216.907 91.9029 219.616 96.5544C222.326 101.206 223.753 106.492 223.753 111.875C223.753 117.258 222.326 122.545 219.616 127.197C216.907 131.848 213.012 135.698 208.33 138.353C203.648 141.009 198.345 142.375 192.962 142.313C187.58 142.251 182.31 140.763 177.69 138L138 177.7C141.808 184.071 143.155 191.614 141.79 198.91C140.424 206.205 136.44 212.75 130.585 217.313C124.731 221.875 117.412 224.141 110.004 223.683C102.596 223.226 95.6103 220.077 90.3621 214.828C85.1139 209.58 81.9647 202.595 81.5072 195.187C81.0497 187.779 83.3154 180.459 87.878 174.605C92.4405 168.751 98.9853 164.766 106.281 163.401C113.576 162.035 121.119 163.383 127.49 167.19L167.19 127.49C165.664 124.941 164.518 122.182 163.79 119.3H141.39C139.721 125.858 135.915 131.673 130.573 135.826C125.231 139.98 118.657 142.234 111.89 142.234C105.123 142.234 98.5494 139.98 93.2071 135.826C87.8648 131.673 84.0587 125.858 82.39 119.3H60C58.1878 126.495 53.8086 132.78 47.6863 136.971C41.5641 141.163 34.1211 142.972 26.7579 142.059C19.3947 141.146 12.6191 137.574 7.70605 132.014C2.79302 126.454 0.0813599 119.29 0.0813599 111.87C0.0813599 104.451 2.79302 97.2871 7.70605 91.7272C12.6191 86.1673 19.3947 82.5947 26.7579 81.6817C34.1211 80.7686 41.5641 82.5781 47.6863 86.7696C53.8086 90.9611 58.1878 97.2456 60 104.44H82.35ZM100.86 204.32C103.407 206.868 106.759 208.453 110.345 208.806C113.93 209.159 117.527 208.258 120.522 206.256C123.517 204.254 125.725 201.276 126.771 197.828C127.816 194.38 127.633 190.677 126.253 187.349C124.874 184.021 122.383 181.274 119.205 179.577C116.027 177.88 112.359 177.337 108.826 178.042C105.293 178.746 102.113 180.654 99.8291 183.44C97.5451 186.226 96.2979 189.718 96.3 193.32C96.2985 195.364 96.7006 197.388 97.4831 199.275C98.2656 201.163 99.4132 202.877 100.86 204.32ZM204.32 122.88C206.868 120.333 208.453 116.981 208.806 113.396C209.159 109.811 208.258 106.214 206.256 103.219C204.254 100.223 201.275 98.0151 197.827 96.97C194.38 95.9249 190.676 96.1077 187.348 97.4873C184.02 98.8669 181.274 101.358 179.577 104.536C177.879 107.714 177.337 111.382 178.041 114.915C178.746 118.448 180.653 121.627 183.439 123.911C186.226 126.195 189.717 127.443 193.32 127.44C195.364 127.443 197.388 127.042 199.275 126.259C201.163 125.476 202.878 124.328 204.32 122.88ZM122.88 19.4205C120.333 16.8729 116.981 15.2876 113.395 14.9347C109.81 14.5817 106.213 15.483 103.218 17.4849C100.223 19.4868 98.0146 22.4654 96.9696 25.9131C95.9245 29.3608 96.1073 33.0642 97.4869 36.3922C98.8665 39.7202 101.358 42.4668 104.535 44.1639C107.713 45.861 111.381 46.4036 114.914 45.6992C118.447 44.9949 121.627 43.0871 123.911 40.301C126.195 37.515 127.442 34.0231 127.44 30.4205C127.44 28.3772 127.038 26.3539 126.255 24.4664C125.473 22.5788 124.326 20.8642 122.88 19.4205ZM19.42 100.86C16.8725 103.408 15.2872 106.76 14.9342 110.345C14.5813 113.93 15.4826 117.527 17.4844 120.522C19.4863 123.518 22.4649 125.726 25.9127 126.771C29.3604 127.816 33.0638 127.633 36.3918 126.254C39.7198 124.874 42.4664 122.383 44.1635 119.205C45.8606 116.027 46.4032 112.359 45.6988 108.826C44.9944 105.293 43.0866 102.114 40.3006 99.8296C37.5145 97.5455 34.0227 96.2983 30.42 96.3005C26.2938 96.3018 22.337 97.9421 19.42 100.86ZM100.86 100.86C98.3125 103.408 96.7272 106.76 96.3742 110.345C96.0213 113.93 96.9226 117.527 98.9244 120.522C100.926 123.518 103.905 125.726 107.353 126.771C110.8 127.816 114.504 127.633 117.832 126.254C121.16 124.874 123.906 122.383 125.604 119.205C127.301 116.027 127.843 112.359 127.139 108.826C126.434 105.293 124.527 102.114 121.741 99.8296C118.955 97.5455 115.463 96.2983 111.86 96.3005C109.817 96.299 107.793 96.701 105.905 97.4835C104.018 98.2661 102.303 99.4136 100.86 100.86Z\" fill=\"#00AEEF\"/>\n",
       "    </g>\n",
       "    <defs>\n",
       "        <clipPath id=\"clip0_4338_178347\">\n",
       "            <rect width=\"566.93\" height=\"223.75\" fill=\"white\"/>\n",
       "        </clipPath>\n",
       "    </defs>\n",
       "  </svg>\n",
       "</div>\n",
       "\n",
       "        <table class=\"jp-RenderedHTMLCommon\" style=\"border-collapse: collapse;color: var(--jp-ui-font-color1);font-size: var(--jp-ui-font-size1);\">\n",
       "    <tr>\n",
       "        <td style=\"text-align: left\"><b>Python version:</b></td>\n",
       "        <td style=\"text-align: left\"><b>3.8.10</b></td>\n",
       "    </tr>\n",
       "    <tr>\n",
       "        <td style=\"text-align: left\"><b>Ray version:</b></td>\n",
       "        <td style=\"text-align: left\"><b>2.9.3</b></td>\n",
       "    </tr>\n",
       "    <tr>\n",
       "    <td style=\"text-align: left\"><b>Dashboard:</b></td>\n",
       "    <td style=\"text-align: left\"><b><a href=\"http://10.244.21.11:8265\" target=\"_blank\">http://10.244.21.11:8265</a></b></td>\n",
       "</tr>\n",
       "\n",
       "</table>\n",
       "\n",
       "    </div>\n",
       "</div>\n"
      ],
      "text/plain": [
       "RayContext(dashboard_url='10.244.21.11:8265', python_version='3.8.10', ray_version='2.9.3', ray_commit='62655e11ed76509b78654b60be67bc59f8f3460a', protocol_version=None)"
      ]
     },
     "execution_count": 7,
     "metadata": {},
     "output_type": "execute_result"
    },
    {
     "name": "stderr",
     "output_type": "stream",
     "text": [
      "\u001b[33m(raylet, ip=10.244.22.11)\u001b[0m [2024-04-24 03:15:16,685 I 2942 2942] logging.cc:230: Set ray log level from environment variable RAY_BACKEND_LOG_LEVEL to -1\n",
      "\u001b[33m(raylet, ip=10.244.24.11)\u001b[0m [2024-04-24 03:15:46,010 I 2996 2996] logging.cc:230: Set ray log level from environment variable RAY_BACKEND_LOG_LEVEL to -1\n",
      "\u001b[36m(train_breast_cancer pid=3058, ip=10.244.24.11)\u001b[0m [03:15:48] WARNING: /workspace/src/c_api/c_api.cc:1240: Saving into deprecated binary model format, please consider using `json` or `ubj`. Model format will default to JSON in XGBoost 2.2 if not specified.\n",
      "\u001b[36m(train_breast_cancer pid=3029, ip=10.244.23.11)\u001b[0m Checkpoint successfully created at: Checkpoint(filesystem=local, path=/home/artifacts/earlystopping/train_breast_cancer_2024-04-24_03-15-45/train_breast_cancer_f0d16_00003_3_eta=0.0930,max_depth=6,min_child_weight=3,subsample=0.7415_2024-04-24_03-15-45/checkpoint_000000)\n",
      "\u001b[33m(raylet)\u001b[0m [2024-04-24 03:15:50,802 I 8919 8919] logging.cc:230: Set ray log level from environment variable RAY_BACKEND_LOG_LEVEL to -1\u001b[32m [repeated 13x across cluster]\u001b[0m\n",
      "\u001b[33m(raylet, ip=10.244.24.11)\u001b[0m [2024-04-24 03:16:12,529 I 3143 3143] logging.cc:230: Set ray log level from environment variable RAY_BACKEND_LOG_LEVEL to -1\n",
      "\u001b[36m(train_breast_cancer pid=3166, ip=10.244.22.11)\u001b[0m [03:16:14] WARNING: /workspace/src/common/error_msg.cc:27: The tree method `gpu_hist` is deprecated since 2.0.0. To use GPU training, set the `device` parameter to CUDA instead.\n",
      "\u001b[36m(train_breast_cancer pid=3166, ip=10.244.22.11)\u001b[0m \n",
      "\u001b[36m(train_breast_cancer pid=3166, ip=10.244.22.11)\u001b[0m     E.g. tree_method = \"hist\", device = \"cuda\"\n",
      "\u001b[36m(train_breast_cancer pid=3166, ip=10.244.22.11)\u001b[0m \n",
      "\u001b[36m(train_breast_cancer pid=3166, ip=10.244.22.11)\u001b[0m [03:16:14] WARNING: /workspace/src/c_api/c_api.cc:1240: Saving into deprecated binary model format, please consider using `json` or `ubj`. Model format will default to JSON in XGBoost 2.2 if not specified.\n",
      "\u001b[36m(train_breast_cancer pid=3178, ip=10.244.20.11)\u001b[0m Checkpoint successfully created at: Checkpoint(filesystem=local, path=/home/artifacts/gpufull/train_breast_cancer_2024-04-24_03-16-11/train_breast_cancer_00a1d_00001_1_eta=0.0042,max_depth=5,min_child_weight=1,subsample=0.7299_2024-04-24_03-16-12/checkpoint_000000)\n",
      "\u001b[33m(raylet)\u001b[0m [2024-04-24 03:16:15,495 I 9064 9064] logging.cc:230: Set ray log level from environment variable RAY_BACKEND_LOG_LEVEL to -1\u001b[32m [repeated 5x across cluster]\u001b[0m\n",
      "\u001b[36m(train_breast_cancer pid=3171, ip=10.244.23.11)\u001b[0m [03:16:19] WARNING: /workspace/src/common/error_msg.cc:27: The tree method `gpu_hist` is deprecated since 2.0.0. To use GPU training, set the `device` parameter to CUDA instead.\u001b[32m [repeated 7x across cluster]\u001b[0m\n",
      "\u001b[36m(train_breast_cancer pid=3171, ip=10.244.23.11)\u001b[0m \u001b[32m [repeated 14x across cluster]\u001b[0m\n",
      "\u001b[36m(train_breast_cancer pid=3171, ip=10.244.23.11)\u001b[0m     E.g. tree_method = \"hist\", device = \"cuda\"\u001b[32m [repeated 7x across cluster]\u001b[0m\n",
      "\u001b[36m(train_breast_cancer pid=3171, ip=10.244.23.11)\u001b[0m [03:16:19] WARNING: /workspace/src/c_api/c_api.cc:1240: Saving into deprecated binary model format, please consider using `json` or `ubj`. Model format will default to JSON in XGBoost 2.2 if not specified.\u001b[32m [repeated 52x across cluster]\u001b[0m\n",
      "\u001b[36m(train_breast_cancer pid=9064)\u001b[0m Checkpoint successfully created at: Checkpoint(filesystem=local, path=/home/artifacts/gpufull/train_breast_cancer_2024-04-24_03-16-11/train_breast_cancer_00a1d_00003_3_eta=0.0016,max_depth=3,min_child_weight=1,subsample=0.8945_2024-04-24_03-16-12/checkpoint_000004)\u001b[32m [repeated 55x across cluster]\u001b[0m\n",
      "\u001b[36m(train_breast_cancer pid=9064)\u001b[0m [03:16:22] WARNING: /workspace/src/common/error_msg.cc:27: The tree method `gpu_hist` is deprecated since 2.0.0. To use GPU training, set the `device` parameter to CUDA instead.\u001b[32m [repeated 2x across cluster]\u001b[0m\n",
      "\u001b[36m(train_breast_cancer pid=9064)\u001b[0m \u001b[32m [repeated 4x across cluster]\u001b[0m\n",
      "\u001b[36m(train_breast_cancer pid=9064)\u001b[0m     E.g. tree_method = \"hist\", device = \"cuda\"\u001b[32m [repeated 2x across cluster]\u001b[0m\n",
      "\u001b[36m(train_breast_cancer pid=9064)\u001b[0m [03:16:24] WARNING: /workspace/src/c_api/c_api.cc:1240: Saving into deprecated binary model format, please consider using `json` or `ubj`. Model format will default to JSON in XGBoost 2.2 if not specified.\u001b[32m [repeated 46x across cluster]\u001b[0m\n",
      "\u001b[36m(train_breast_cancer pid=9064)\u001b[0m Checkpoint successfully created at: Checkpoint(filesystem=local, path=/home/artifacts/gpufull/train_breast_cancer_2024-04-24_03-16-11/train_breast_cancer_00a1d_00009_9_eta=0.0004,max_depth=1,min_child_weight=2,subsample=0.7323_2024-04-24_03-16-12/checkpoint_000009)\u001b[32m [repeated 44x across cluster]\u001b[0m\n",
      "\u001b[33m(raylet, ip=10.244.23.11)\u001b[0m [2024-04-24 03:17:11,747 I 3246 3246] logging.cc:230: Set ray log level from environment variable RAY_BACKEND_LOG_LEVEL to -1\n",
      "\u001b[36m(train_breast_cancer pid=3343, ip=10.244.23.11)\u001b[0m [03:17:14] WARNING: /workspace/src/common/error_msg.cc:27: The tree method `gpu_hist` is deprecated since 2.0.0. To use GPU training, set the `device` parameter to CUDA instead.\n",
      "\u001b[36m(train_breast_cancer pid=3343, ip=10.244.23.11)\u001b[0m \n",
      "\u001b[36m(train_breast_cancer pid=3343, ip=10.244.23.11)\u001b[0m     E.g. tree_method = \"hist\", device = \"cuda\"\n",
      "\u001b[36m(train_breast_cancer pid=3343, ip=10.244.23.11)\u001b[0m \n",
      "\u001b[36m(train_breast_cancer pid=3348, ip=10.244.24.11)\u001b[0m [03:17:15] WARNING: /workspace/src/c_api/c_api.cc:1240: Saving into deprecated binary model format, please consider using `json` or `ubj`. Model format will default to JSON in XGBoost 2.2 if not specified.\n",
      "\u001b[36m(train_breast_cancer pid=3343, ip=10.244.23.11)\u001b[0m Checkpoint successfully created at: Checkpoint(filesystem=local, path=/home/artifacts/gpu/train_breast_cancer_2024-04-24_03-17-09/train_breast_cancer_232f5_00000_0_eta=0.0773,max_depth=4,min_child_weight=1,subsample=0.7338_2024-04-24_03-17-10/checkpoint_000000)\n",
      "\u001b[33m(raylet, ip=10.244.22.11)\u001b[0m [2024-04-24 03:17:13,999 I 3341 3341] logging.cc:230: Set ray log level from environment variable RAY_BACKEND_LOG_LEVEL to -1\u001b[32m [repeated 18x across cluster]\u001b[0m\n",
      "\u001b[36m(train_breast_cancer pid=3320, ip=10.244.20.11)\u001b[0m [03:17:15] WARNING: /workspace/src/common/error_msg.cc:27: The tree method `gpu_hist` is deprecated since 2.0.0. To use GPU training, set the `device` parameter to CUDA instead.\u001b[32m [repeated 7x across cluster]\u001b[0m\n",
      "\u001b[36m(train_breast_cancer pid=3320, ip=10.244.20.11)\u001b[0m \u001b[32m [repeated 14x across cluster]\u001b[0m\n",
      "\u001b[36m(train_breast_cancer pid=3320, ip=10.244.20.11)\u001b[0m     E.g. tree_method = \"hist\", device = \"cuda\"\u001b[32m [repeated 7x across cluster]\u001b[0m\n",
      "\u001b[36m(train_breast_cancer pid=3341, ip=10.244.22.11)\u001b[0m [03:17:20] WARNING: /workspace/src/c_api/c_api.cc:1240: Saving into deprecated binary model format, please consider using `json` or `ubj`. Model format will default to JSON in XGBoost 2.2 if not specified.\u001b[32m [repeated 49x across cluster]\u001b[0m\n",
      "\u001b[36m(train_breast_cancer pid=3348, ip=10.244.24.11)\u001b[0m Checkpoint successfully created at: Checkpoint(filesystem=local, path=/home/artifacts/gpu/train_breast_cancer_2024-04-24_03-17-09/train_breast_cancer_232f5_00001_1_eta=0.0161,max_depth=1,min_child_weight=3,subsample=0.7061_2024-04-24_03-17-10/checkpoint_000005)\u001b[32m [repeated 48x across cluster]\u001b[0m\n",
      "\u001b[33m(raylet)\u001b[0m [2024-04-24 03:17:14,795 I 9198 9198] logging.cc:230: Set ray log level from environment variable RAY_BACKEND_LOG_LEVEL to -1\u001b[32m [repeated 3x across cluster]\u001b[0m\n",
      "\u001b[36m(train_breast_cancer pid=3374, ip=10.244.23.11)\u001b[0m [03:17:21] WARNING: /workspace/src/common/error_msg.cc:27: The tree method `gpu_hist` is deprecated since 2.0.0. To use GPU training, set the `device` parameter to CUDA instead.\u001b[32m [repeated 2x across cluster]\u001b[0m\n",
      "\u001b[36m(train_breast_cancer pid=3374, ip=10.244.23.11)\u001b[0m \u001b[32m [repeated 4x across cluster]\u001b[0m\n",
      "\u001b[36m(train_breast_cancer pid=3374, ip=10.244.23.11)\u001b[0m     E.g. tree_method = \"hist\", device = \"cuda\"\u001b[32m [repeated 2x across cluster]\u001b[0m\n"
     ]
    }
   ],
   "source": [
    "import ray\n",
    "try:\n",
    "    ray.shutdown()\n",
    "except:\n",
    "    pass\n",
    "ray.init(address=\"auto\")"
   ]
  },
  {
   "cell_type": "code",
   "execution_count": 8,
   "id": "94ef2b77-c9fd-40eb-9bee-ff29bed72a4c",
   "metadata": {},
   "outputs": [
    {
     "data": {
      "text/html": [
       "<div class=\"tuneStatus\">\n",
       "  <div style=\"display: flex;flex-direction: row\">\n",
       "    <div style=\"display: flex;flex-direction: column;\">\n",
       "      <h3>Tune Status</h3>\n",
       "      <table>\n",
       "<tbody>\n",
       "<tr><td>Current time:</td><td>2024-04-24 03:15:20</td></tr>\n",
       "<tr><td>Running for: </td><td>00:00:04.70        </td></tr>\n",
       "<tr><td>Memory:      </td><td>5.1/31.0 GiB       </td></tr>\n",
       "</tbody>\n",
       "</table>\n",
       "    </div>\n",
       "    <div class=\"vDivider\"></div>\n",
       "    <div class=\"systemInfo\">\n",
       "      <h3>System Info</h3>\n",
       "      Using FIFO scheduling algorithm.<br>Logical resource usage: 1.0/40 CPUs, 0/5 GPUs (0.0/5.0 accelerator_type:A10G, 0.0/4.0 custom_llm_serving_label)\n",
       "    </div>\n",
       "    \n",
       "  </div>\n",
       "  <div class=\"hDivider\"></div>\n",
       "  <div class=\"trialStatus\">\n",
       "    <h3>Trial Status</h3>\n",
       "    <table>\n",
       "<thead>\n",
       "<tr><th>Trial name                     </th><th>status    </th><th>loc              </th><th style=\"text-align: right;\">        eta</th><th style=\"text-align: right;\">  max_depth</th><th style=\"text-align: right;\">  min_child_weight</th><th style=\"text-align: right;\">  subsample</th><th style=\"text-align: right;\">     acc</th><th style=\"text-align: right;\">  iter</th><th style=\"text-align: right;\">  total time (s)</th></tr>\n",
       "</thead>\n",
       "<tbody>\n",
       "<tr><td>train_breast_cancer_de22c_00000</td><td>TERMINATED</td><td>10.244.23.11:2945</td><td style=\"text-align: right;\">0.000278238</td><td style=\"text-align: right;\">          4</td><td style=\"text-align: right;\">                 2</td><td style=\"text-align: right;\">   0.776999</td><td style=\"text-align: right;\">0.713287</td><td style=\"text-align: right;\">     1</td><td style=\"text-align: right;\">       0.0205131</td></tr>\n",
       "<tr><td>train_breast_cancer_de22c_00001</td><td>TERMINATED</td><td>10.244.23.11:2945</td><td style=\"text-align: right;\">0.00020188 </td><td style=\"text-align: right;\">          8</td><td style=\"text-align: right;\">                 2</td><td style=\"text-align: right;\">   0.848902</td><td style=\"text-align: right;\">0.608392</td><td style=\"text-align: right;\">     1</td><td style=\"text-align: right;\">       0.0217369</td></tr>\n",
       "<tr><td>train_breast_cancer_de22c_00002</td><td>TERMINATED</td><td>10.244.23.11:2945</td><td style=\"text-align: right;\">0.0041078  </td><td style=\"text-align: right;\">          3</td><td style=\"text-align: right;\">                 3</td><td style=\"text-align: right;\">   0.544379</td><td style=\"text-align: right;\">0.615385</td><td style=\"text-align: right;\">     1</td><td style=\"text-align: right;\">       0.0171645</td></tr>\n",
       "<tr><td>train_breast_cancer_de22c_00003</td><td>TERMINATED</td><td>10.244.23.11:2945</td><td style=\"text-align: right;\">0.000183119</td><td style=\"text-align: right;\">          1</td><td style=\"text-align: right;\">                 3</td><td style=\"text-align: right;\">   0.578556</td><td style=\"text-align: right;\">0.615385</td><td style=\"text-align: right;\">     1</td><td style=\"text-align: right;\">       0.013093 </td></tr>\n",
       "<tr><td>train_breast_cancer_de22c_00004</td><td>TERMINATED</td><td>10.244.23.11:2945</td><td style=\"text-align: right;\">0.00445188 </td><td style=\"text-align: right;\">          7</td><td style=\"text-align: right;\">                 3</td><td style=\"text-align: right;\">   0.621606</td><td style=\"text-align: right;\">0.629371</td><td style=\"text-align: right;\">     1</td><td style=\"text-align: right;\">       0.0188844</td></tr>\n",
       "<tr><td>train_breast_cancer_de22c_00005</td><td>TERMINATED</td><td>10.244.23.11:2945</td><td style=\"text-align: right;\">0.000303566</td><td style=\"text-align: right;\">          7</td><td style=\"text-align: right;\">                 2</td><td style=\"text-align: right;\">   0.961211</td><td style=\"text-align: right;\">0.594406</td><td style=\"text-align: right;\">     1</td><td style=\"text-align: right;\">       0.0645039</td></tr>\n",
       "<tr><td>train_breast_cancer_de22c_00006</td><td>TERMINATED</td><td>10.244.23.11:2945</td><td style=\"text-align: right;\">0.00225683 </td><td style=\"text-align: right;\">          7</td><td style=\"text-align: right;\">                 1</td><td style=\"text-align: right;\">   0.889144</td><td style=\"text-align: right;\">0.622378</td><td style=\"text-align: right;\">     1</td><td style=\"text-align: right;\">       0.0280683</td></tr>\n",
       "<tr><td>train_breast_cancer_de22c_00007</td><td>TERMINATED</td><td>10.244.23.11:2945</td><td style=\"text-align: right;\">0.000106273</td><td style=\"text-align: right;\">          8</td><td style=\"text-align: right;\">                 1</td><td style=\"text-align: right;\">   0.776135</td><td style=\"text-align: right;\">0.594406</td><td style=\"text-align: right;\">     1</td><td style=\"text-align: right;\">       0.0245171</td></tr>\n",
       "<tr><td>train_breast_cancer_de22c_00008</td><td>TERMINATED</td><td>10.244.23.11:2945</td><td style=\"text-align: right;\">0.00501698 </td><td style=\"text-align: right;\">          6</td><td style=\"text-align: right;\">                 1</td><td style=\"text-align: right;\">   0.619681</td><td style=\"text-align: right;\">0.608392</td><td style=\"text-align: right;\">     1</td><td style=\"text-align: right;\">       0.0225742</td></tr>\n",
       "<tr><td>train_breast_cancer_de22c_00009</td><td>TERMINATED</td><td>10.244.23.11:2945</td><td style=\"text-align: right;\">0.000588589</td><td style=\"text-align: right;\">          2</td><td style=\"text-align: right;\">                 2</td><td style=\"text-align: right;\">   0.972956</td><td style=\"text-align: right;\">0.594406</td><td style=\"text-align: right;\">     1</td><td style=\"text-align: right;\">       0.015151 </td></tr>\n",
       "</tbody>\n",
       "</table>\n",
       "  </div>\n",
       "</div>\n",
       "<style>\n",
       ".tuneStatus {\n",
       "  color: var(--jp-ui-font-color1);\n",
       "}\n",
       ".tuneStatus .systemInfo {\n",
       "  display: flex;\n",
       "  flex-direction: column;\n",
       "}\n",
       ".tuneStatus td {\n",
       "  white-space: nowrap;\n",
       "}\n",
       ".tuneStatus .trialStatus {\n",
       "  display: flex;\n",
       "  flex-direction: column;\n",
       "}\n",
       ".tuneStatus h3 {\n",
       "  font-weight: bold;\n",
       "}\n",
       ".tuneStatus .hDivider {\n",
       "  border-bottom-width: var(--jp-border-width);\n",
       "  border-bottom-color: var(--jp-border-color0);\n",
       "  border-bottom-style: solid;\n",
       "}\n",
       ".tuneStatus .vDivider {\n",
       "  border-left-width: var(--jp-border-width);\n",
       "  border-left-color: var(--jp-border-color0);\n",
       "  border-left-style: solid;\n",
       "  margin: 0.5em 1em 0.5em 1em;\n",
       "}\n",
       "</style>\n"
      ],
      "text/plain": [
       "<IPython.core.display.HTML object>"
      ]
     },
     "metadata": {},
     "output_type": "display_data"
    },
    {
     "name": "stderr",
     "output_type": "stream",
     "text": [
      "2024-04-24 03:15:20,381\tERROR worker.py:405 -- Unhandled error (suppress with 'RAY_IGNORE_UNHANDLED_ERRORS=1'): The worker died unexpectedly while executing this task. Check python-core-worker-*.log files for more information.\n",
      "2024-04-24 03:15:20,407\tINFO tune.py:1042 -- Total run time: 6.15 seconds (4.69 seconds for the tuning loop).\n"
     ]
    }
   ],
   "source": [
    "results = tuner.fit()"
   ]
  },
  {
   "cell_type": "markdown",
   "id": "d13c80c6-0279-4857-a117-ef3d5087704a",
   "metadata": {},
   "source": [
    "### Early stopping in HPO"
   ]
  },
  {
   "cell_type": "code",
   "execution_count": 9,
   "id": "47ed128a-6096-4226-a246-d496ac160223",
   "metadata": {},
   "outputs": [],
   "source": [
    "import sklearn.datasets\n",
    "import sklearn.metrics\n",
    "from ray.tune.schedulers import ASHAScheduler\n",
    "from sklearn.model_selection import train_test_split\n",
    "import xgboost as xgb\n",
    "\n",
    "from ray import tune\n",
    "from ray.tune.integration.xgboost import TuneReportCheckpointCallback"
   ]
  },
  {
   "cell_type": "code",
   "execution_count": 10,
   "id": "017edaea-3914-486f-9401-df304346ed8e",
   "metadata": {},
   "outputs": [],
   "source": [
    "def train_breast_cancer(config: dict):\n",
    "    # This is a simple training function to be passed into Tune\n",
    "    # Load dataset\n",
    "    data, labels = sklearn.datasets.load_breast_cancer(return_X_y=True)\n",
    "    # Split into train and test set\n",
    "    train_x, test_x, train_y, test_y = train_test_split(data, labels, test_size=0.25)\n",
    "    # Build input matrices for XGBoost\n",
    "    train_set = xgb.DMatrix(train_x, label=train_y)\n",
    "    test_set = xgb.DMatrix(test_x, label=test_y)\n",
    "    # Train the classifier, using the Tune callback\n",
    "    xgb.train(\n",
    "        config,\n",
    "        train_set,\n",
    "        evals=[(test_set, \"eval\")],\n",
    "        verbose_eval=False,\n",
    "        # `TuneReportCheckpointCallback` defines the checkpointing frequency and format.\n",
    "        callbacks=[TuneReportCheckpointCallback(frequency=1)],\n",
    "    )"
   ]
  },
  {
   "cell_type": "code",
   "execution_count": 11,
   "id": "50f227f1-46b1-4c53-a5a9-89740c0a97cb",
   "metadata": {},
   "outputs": [],
   "source": [
    "def get_best_model_checkpoint(results):\n",
    "    best_result = results.get_best_result()\n",
    "\n",
    "    # `TuneReportCheckpointCallback` provides a helper method to retrieve the\n",
    "    # model from a checkpoint.\n",
    "    best_bst = TuneReportCheckpointCallback.get_model(best_result.checkpoint)\n",
    "\n",
    "    accuracy = 1.0 - best_result.metrics[\"eval-error\"]\n",
    "    print(f\"Best model parameters: {best_result.config}\")\n",
    "    print(f\"Best model total accuracy: {accuracy:.4f}\")\n",
    "    return best_bst\n"
   ]
  },
  {
   "cell_type": "code",
   "execution_count": 12,
   "id": "81c60bca-b375-422f-b0db-fd5734fd8dce",
   "metadata": {},
   "outputs": [],
   "source": [
    "def tune_xgboost(smoke_test=False):\n",
    "    search_space = {\n",
    "        # You can mix constants with search space objects.\n",
    "        \"objective\": \"binary:logistic\",\n",
    "        \"eval_metric\": [\"logloss\", \"error\"],\n",
    "        \"max_depth\": tune.randint(1, 9),\n",
    "        \"min_child_weight\": tune.choice([1, 2, 3]),\n",
    "        \"subsample\": tune.uniform(0.5, 1.0),\n",
    "        \"eta\": tune.loguniform(1e-4, 1e-1),\n",
    "    }\n",
    "    # This will enable aggressive early stopping of bad trials.\n",
    "    scheduler = ASHAScheduler(\n",
    "        max_t=10, grace_period=1, reduction_factor=2  # 10 training iterations\n",
    "    )\n",
    "\n",
    "    tuner = tune.Tuner(\n",
    "        train_breast_cancer,\n",
    "        tune_config=tune.TuneConfig(\n",
    "            metric=\"eval-logloss\",\n",
    "            mode=\"min\",\n",
    "            scheduler=scheduler,\n",
    "            num_samples=1 if smoke_test else 10,\n",
    "        ),\n",
    "        run_config=ray.train.RunConfig(\n",
    "            storage_path=\"/home/artifacts/earlystopping/\"\n",
    "        ),\n",
    "        param_space=search_space,\n",
    "    )\n",
    "    results = tuner.fit()\n",
    "    return results"
   ]
  },
  {
   "cell_type": "code",
   "execution_count": 13,
   "id": "7a491e64-d1e2-46ff-9e31-87fc20a628f7",
   "metadata": {},
   "outputs": [
    {
     "data": {
      "text/html": [
       "<div class=\"tuneStatus\">\n",
       "  <div style=\"display: flex;flex-direction: row\">\n",
       "    <div style=\"display: flex;flex-direction: column;\">\n",
       "      <h3>Tune Status</h3>\n",
       "      <table>\n",
       "<tbody>\n",
       "<tr><td>Current time:</td><td>2024-04-24 03:15:56</td></tr>\n",
       "<tr><td>Running for: </td><td>00:00:10.59        </td></tr>\n",
       "<tr><td>Memory:      </td><td>5.4/31.0 GiB       </td></tr>\n",
       "</tbody>\n",
       "</table>\n",
       "    </div>\n",
       "    <div class=\"vDivider\"></div>\n",
       "    <div class=\"systemInfo\">\n",
       "      <h3>System Info</h3>\n",
       "      Using AsyncHyperBand: num_stopped=10<br>Bracket: Iter 8.000: -0.3342198670118839 | Iter 4.000: -0.44570861162839237 | Iter 2.000: -0.6155171936208551 | Iter 1.000: -0.6436750795040931<br>Logical resource usage: 3.0/40 CPUs, 0/5 GPUs (0.0/5.0 accelerator_type:A10G, 0.0/4.0 custom_llm_serving_label)\n",
       "    </div>\n",
       "    \n",
       "  </div>\n",
       "  <div class=\"hDivider\"></div>\n",
       "  <div class=\"trialStatus\">\n",
       "    <h3>Trial Status</h3>\n",
       "    <table>\n",
       "<thead>\n",
       "<tr><th>Trial name                     </th><th>status    </th><th>loc              </th><th style=\"text-align: right;\">        eta</th><th style=\"text-align: right;\">  max_depth</th><th style=\"text-align: right;\">  min_child_weight</th><th style=\"text-align: right;\">  subsample</th><th style=\"text-align: right;\">  iter</th><th style=\"text-align: right;\">  total time (s)</th><th style=\"text-align: right;\">  eval-logloss</th><th style=\"text-align: right;\">  eval-error</th></tr>\n",
       "</thead>\n",
       "<tbody>\n",
       "<tr><td>train_breast_cancer_f0d16_00000</td><td>TERMINATED</td><td>10.244.24.11:3058</td><td style=\"text-align: right;\">0.0166545  </td><td style=\"text-align: right;\">          3</td><td style=\"text-align: right;\">                 3</td><td style=\"text-align: right;\">   0.679804</td><td style=\"text-align: right;\">     1</td><td style=\"text-align: right;\">        0.479793</td><td style=\"text-align: right;\">      0.65388 </td><td style=\"text-align: right;\">   0.384615 </td></tr>\n",
       "<tr><td>train_breast_cancer_f0d16_00001</td><td>TERMINATED</td><td>10.244.22.11:3085</td><td style=\"text-align: right;\">0.00338162 </td><td style=\"text-align: right;\">          2</td><td style=\"text-align: right;\">                 1</td><td style=\"text-align: right;\">   0.712189</td><td style=\"text-align: right;\">     1</td><td style=\"text-align: right;\">        0.421662</td><td style=\"text-align: right;\">      0.667979</td><td style=\"text-align: right;\">   0.391608 </td></tr>\n",
       "<tr><td>train_breast_cancer_f0d16_00002</td><td>TERMINATED</td><td>10.244.22.11:3086</td><td style=\"text-align: right;\">0.000129086</td><td style=\"text-align: right;\">          2</td><td style=\"text-align: right;\">                 1</td><td style=\"text-align: right;\">   0.885581</td><td style=\"text-align: right;\">     1</td><td style=\"text-align: right;\">        0.499266</td><td style=\"text-align: right;\">      0.67863 </td><td style=\"text-align: right;\">   0.405594 </td></tr>\n",
       "<tr><td>train_breast_cancer_f0d16_00003</td><td>TERMINATED</td><td>10.244.23.11:3029</td><td style=\"text-align: right;\">0.0929771  </td><td style=\"text-align: right;\">          6</td><td style=\"text-align: right;\">                 3</td><td style=\"text-align: right;\">   0.74152 </td><td style=\"text-align: right;\">    10</td><td style=\"text-align: right;\">        3.52023 </td><td style=\"text-align: right;\">      0.295469</td><td style=\"text-align: right;\">   0.0629371</td></tr>\n",
       "<tr><td>train_breast_cancer_f0d16_00004</td><td>TERMINATED</td><td>10.244.20.11:3103</td><td style=\"text-align: right;\">0.0783609  </td><td style=\"text-align: right;\">          4</td><td style=\"text-align: right;\">                 2</td><td style=\"text-align: right;\">   0.74078 </td><td style=\"text-align: right;\">     2</td><td style=\"text-align: right;\">        0.800395</td><td style=\"text-align: right;\">      0.55575 </td><td style=\"text-align: right;\">   0.384615 </td></tr>\n",
       "<tr><td>train_breast_cancer_f0d16_00005</td><td>TERMINATED</td><td>10.244.22.11:3085</td><td style=\"text-align: right;\">0.0276513  </td><td style=\"text-align: right;\">          1</td><td style=\"text-align: right;\">                 2</td><td style=\"text-align: right;\">   0.895466</td><td style=\"text-align: right;\">     1</td><td style=\"text-align: right;\">        0.338289</td><td style=\"text-align: right;\">      0.663348</td><td style=\"text-align: right;\">   0.412587 </td></tr>\n",
       "<tr><td>train_breast_cancer_f0d16_00006</td><td>TERMINATED</td><td>10.244.24.11:3058</td><td style=\"text-align: right;\">0.025981   </td><td style=\"text-align: right;\">          2</td><td style=\"text-align: right;\">                 1</td><td style=\"text-align: right;\">   0.577579</td><td style=\"text-align: right;\">     2</td><td style=\"text-align: right;\">        0.731913</td><td style=\"text-align: right;\">      0.615517</td><td style=\"text-align: right;\">   0.356643 </td></tr>\n",
       "<tr><td>train_breast_cancer_f0d16_00007</td><td>TERMINATED</td><td>10.244.22.11:3086</td><td style=\"text-align: right;\">0.00723173 </td><td style=\"text-align: right;\">          2</td><td style=\"text-align: right;\">                 3</td><td style=\"text-align: right;\">   0.756581</td><td style=\"text-align: right;\">     2</td><td style=\"text-align: right;\">        0.699378</td><td style=\"text-align: right;\">      0.62837 </td><td style=\"text-align: right;\">   0.321678 </td></tr>\n",
       "<tr><td>train_breast_cancer_f0d16_00008</td><td>TERMINATED</td><td>10.244.24.11:3093</td><td style=\"text-align: right;\">0.00034739 </td><td style=\"text-align: right;\">          8</td><td style=\"text-align: right;\">                 1</td><td style=\"text-align: right;\">   0.627257</td><td style=\"text-align: right;\">     1</td><td style=\"text-align: right;\">        0.404846</td><td style=\"text-align: right;\">      0.696648</td><td style=\"text-align: right;\">   0.433566 </td></tr>\n",
       "<tr><td>train_breast_cancer_f0d16_00009</td><td>TERMINATED</td><td>10.244.22.11:3085</td><td style=\"text-align: right;\">0.0197735  </td><td style=\"text-align: right;\">          6</td><td style=\"text-align: right;\">                 3</td><td style=\"text-align: right;\">   0.525728</td><td style=\"text-align: right;\">     2</td><td style=\"text-align: right;\">        0.72703 </td><td style=\"text-align: right;\">      0.617642</td><td style=\"text-align: right;\">   0.335664 </td></tr>\n",
       "</tbody>\n",
       "</table>\n",
       "  </div>\n",
       "</div>\n",
       "<style>\n",
       ".tuneStatus {\n",
       "  color: var(--jp-ui-font-color1);\n",
       "}\n",
       ".tuneStatus .systemInfo {\n",
       "  display: flex;\n",
       "  flex-direction: column;\n",
       "}\n",
       ".tuneStatus td {\n",
       "  white-space: nowrap;\n",
       "}\n",
       ".tuneStatus .trialStatus {\n",
       "  display: flex;\n",
       "  flex-direction: column;\n",
       "}\n",
       ".tuneStatus h3 {\n",
       "  font-weight: bold;\n",
       "}\n",
       ".tuneStatus .hDivider {\n",
       "  border-bottom-width: var(--jp-border-width);\n",
       "  border-bottom-color: var(--jp-border-color0);\n",
       "  border-bottom-style: solid;\n",
       "}\n",
       ".tuneStatus .vDivider {\n",
       "  border-left-width: var(--jp-border-width);\n",
       "  border-left-color: var(--jp-border-color0);\n",
       "  border-left-style: solid;\n",
       "  margin: 0.5em 1em 0.5em 1em;\n",
       "}\n",
       "</style>\n"
      ],
      "text/plain": [
       "<IPython.core.display.HTML object>"
      ]
     },
     "metadata": {},
     "output_type": "display_data"
    },
    {
     "name": "stderr",
     "output_type": "stream",
     "text": [
      "2024-04-24 03:15:56,202\tWARNING experiment_state.py:323 -- Experiment checkpoint syncing has been triggered multiple times in the last 30.0 seconds. A sync will be triggered whenever a trial has checkpointed more than `num_to_keep` times since last sync or if 300 seconds have passed since last sync. If you have set `num_to_keep` in your `CheckpointConfig`, consider increasing the checkpoint frequency or keeping more checkpoints. You can supress this warning by changing the `TUNE_WARN_EXCESSIVE_EXPERIMENT_CHECKPOINT_SYNC_THRESHOLD_S` environment variable.\n",
      "2024-04-24 03:15:56,222\tINFO tune.py:1042 -- Total run time: 11.07 seconds (7.47 seconds for the tuning loop).\n"
     ]
    }
   ],
   "source": [
    "results = tune_xgboost(smoke_test=False)"
   ]
  },
  {
   "cell_type": "markdown",
   "id": "1224df46-fd73-4a8d-a321-11750251dbab",
   "metadata": {},
   "source": [
    "### Using fractional GPUs"
   ]
  },
  {
   "cell_type": "code",
   "execution_count": 16,
   "id": "dd67c642-7bf2-4d62-aca4-49502bd8b535",
   "metadata": {},
   "outputs": [
    {
     "data": {
      "text/html": [
       "<div class=\"tuneStatus\">\n",
       "  <div style=\"display: flex;flex-direction: row\">\n",
       "    <div style=\"display: flex;flex-direction: column;\">\n",
       "      <h3>Tune Status</h3>\n",
       "      <table>\n",
       "<tbody>\n",
       "<tr><td>Current time:</td><td>2024-04-24 03:17:28</td></tr>\n",
       "<tr><td>Running for: </td><td>00:00:18.70        </td></tr>\n",
       "<tr><td>Memory:      </td><td>5.3/31.0 GiB       </td></tr>\n",
       "</tbody>\n",
       "</table>\n",
       "    </div>\n",
       "    <div class=\"vDivider\"></div>\n",
       "    <div class=\"systemInfo\">\n",
       "      <h3>System Info</h3>\n",
       "      Using FIFO scheduling algorithm.<br>Logical resource usage: 2.0/40 CPUs, 0.2/5 GPUs (0.0/4.0 custom_llm_serving_label, 0.0/5.0 accelerator_type:A10G)\n",
       "    </div>\n",
       "    \n",
       "  </div>\n",
       "  <div class=\"hDivider\"></div>\n",
       "  <div class=\"trialStatus\">\n",
       "    <h3>Trial Status</h3>\n",
       "    <table>\n",
       "<thead>\n",
       "<tr><th>Trial name                     </th><th>status    </th><th>loc              </th><th style=\"text-align: right;\">        eta</th><th style=\"text-align: right;\">  max_depth</th><th style=\"text-align: right;\">  min_child_weight</th><th style=\"text-align: right;\">  subsample</th><th style=\"text-align: right;\">  iter</th><th style=\"text-align: right;\">  total time (s)</th><th style=\"text-align: right;\">  eval-logloss</th><th style=\"text-align: right;\">  eval-error</th></tr>\n",
       "</thead>\n",
       "<tbody>\n",
       "<tr><td>train_breast_cancer_232f5_00000</td><td>TERMINATED</td><td>10.244.23.11:3343</td><td style=\"text-align: right;\">0.0772753  </td><td style=\"text-align: right;\">          4</td><td style=\"text-align: right;\">                 1</td><td style=\"text-align: right;\">   0.733794</td><td style=\"text-align: right;\">    10</td><td style=\"text-align: right;\">         4.21903</td><td style=\"text-align: right;\">      0.314298</td><td style=\"text-align: right;\">   0.0559441</td></tr>\n",
       "<tr><td>train_breast_cancer_232f5_00001</td><td>TERMINATED</td><td>10.244.24.11:3348</td><td style=\"text-align: right;\">0.0161289  </td><td style=\"text-align: right;\">          1</td><td style=\"text-align: right;\">                 3</td><td style=\"text-align: right;\">   0.706106</td><td style=\"text-align: right;\">    10</td><td style=\"text-align: right;\">         4.79754</td><td style=\"text-align: right;\">      0.553304</td><td style=\"text-align: right;\">   0.34965  </td></tr>\n",
       "<tr><td>train_breast_cancer_232f5_00002</td><td>TERMINATED</td><td>10.244.20.11:3319</td><td style=\"text-align: right;\">0.0428752  </td><td style=\"text-align: right;\">          6</td><td style=\"text-align: right;\">                 1</td><td style=\"text-align: right;\">   0.671875</td><td style=\"text-align: right;\">    10</td><td style=\"text-align: right;\">         4.4543 </td><td style=\"text-align: right;\">      0.423445</td><td style=\"text-align: right;\">   0.0699301</td></tr>\n",
       "<tr><td>train_breast_cancer_232f5_00003</td><td>TERMINATED</td><td>10.244.20.11:3320</td><td style=\"text-align: right;\">0.000303146</td><td style=\"text-align: right;\">          3</td><td style=\"text-align: right;\">                 2</td><td style=\"text-align: right;\">   0.674874</td><td style=\"text-align: right;\">    10</td><td style=\"text-align: right;\">         4.34583</td><td style=\"text-align: right;\">      0.647216</td><td style=\"text-align: right;\">   0.34965  </td></tr>\n",
       "<tr><td>train_breast_cancer_232f5_00004</td><td>TERMINATED</td><td>10.244.22.11:3340</td><td style=\"text-align: right;\">0.000415614</td><td style=\"text-align: right;\">          2</td><td style=\"text-align: right;\">                 1</td><td style=\"text-align: right;\">   0.922785</td><td style=\"text-align: right;\">    10</td><td style=\"text-align: right;\">         4.4214 </td><td style=\"text-align: right;\">      0.663412</td><td style=\"text-align: right;\">   0.384615 </td></tr>\n",
       "<tr><td>train_breast_cancer_232f5_00005</td><td>TERMINATED</td><td>10.244.23.11:3374</td><td style=\"text-align: right;\">0.0692545  </td><td style=\"text-align: right;\">          7</td><td style=\"text-align: right;\">                 1</td><td style=\"text-align: right;\">   0.832347</td><td style=\"text-align: right;\">    10</td><td style=\"text-align: right;\">         4.02456</td><td style=\"text-align: right;\">      0.354355</td><td style=\"text-align: right;\">   0.048951 </td></tr>\n",
       "<tr><td>train_breast_cancer_232f5_00006</td><td>TERMINATED</td><td>10.244.22.11:3341</td><td style=\"text-align: right;\">0.00235593 </td><td style=\"text-align: right;\">          4</td><td style=\"text-align: right;\">                 3</td><td style=\"text-align: right;\">   0.982298</td><td style=\"text-align: right;\">    10</td><td style=\"text-align: right;\">         4.28943</td><td style=\"text-align: right;\">      0.639456</td><td style=\"text-align: right;\">   0.363636 </td></tr>\n",
       "<tr><td>train_breast_cancer_232f5_00007</td><td>TERMINATED</td><td>10.244.24.11:3380</td><td style=\"text-align: right;\">0.0519934  </td><td style=\"text-align: right;\">          4</td><td style=\"text-align: right;\">                 3</td><td style=\"text-align: right;\">   0.876504</td><td style=\"text-align: right;\">    10</td><td style=\"text-align: right;\">         4.67109</td><td style=\"text-align: right;\">      0.404876</td><td style=\"text-align: right;\">   0.0909091</td></tr>\n",
       "<tr><td>train_breast_cancer_232f5_00008</td><td>TERMINATED</td><td>10.244.23.11:3343</td><td style=\"text-align: right;\">0.000477425</td><td style=\"text-align: right;\">          3</td><td style=\"text-align: right;\">                 3</td><td style=\"text-align: right;\">   0.866936</td><td style=\"text-align: right;\">    10</td><td style=\"text-align: right;\">         3.55776</td><td style=\"text-align: right;\">      0.652177</td><td style=\"text-align: right;\">   0.363636 </td></tr>\n",
       "<tr><td>train_breast_cancer_232f5_00009</td><td>TERMINATED</td><td>10.244.23.11:3374</td><td style=\"text-align: right;\">0.0211406  </td><td style=\"text-align: right;\">          3</td><td style=\"text-align: right;\">                 1</td><td style=\"text-align: right;\">   0.519995</td><td style=\"text-align: right;\">    10</td><td style=\"text-align: right;\">         3.54654</td><td style=\"text-align: right;\">      0.527726</td><td style=\"text-align: right;\">   0.384615 </td></tr>\n",
       "</tbody>\n",
       "</table>\n",
       "  </div>\n",
       "</div>\n",
       "<style>\n",
       ".tuneStatus {\n",
       "  color: var(--jp-ui-font-color1);\n",
       "}\n",
       ".tuneStatus .systemInfo {\n",
       "  display: flex;\n",
       "  flex-direction: column;\n",
       "}\n",
       ".tuneStatus td {\n",
       "  white-space: nowrap;\n",
       "}\n",
       ".tuneStatus .trialStatus {\n",
       "  display: flex;\n",
       "  flex-direction: column;\n",
       "}\n",
       ".tuneStatus h3 {\n",
       "  font-weight: bold;\n",
       "}\n",
       ".tuneStatus .hDivider {\n",
       "  border-bottom-width: var(--jp-border-width);\n",
       "  border-bottom-color: var(--jp-border-color0);\n",
       "  border-bottom-style: solid;\n",
       "}\n",
       ".tuneStatus .vDivider {\n",
       "  border-left-width: var(--jp-border-width);\n",
       "  border-left-color: var(--jp-border-color0);\n",
       "  border-left-style: solid;\n",
       "  margin: 0.5em 1em 0.5em 1em;\n",
       "}\n",
       "</style>\n"
      ],
      "text/plain": [
       "<IPython.core.display.HTML object>"
      ]
     },
     "metadata": {},
     "output_type": "display_data"
    },
    {
     "name": "stderr",
     "output_type": "stream",
     "text": [
      "2024-04-24 03:17:17,733\tWARNING util.py:202 -- The `process_trial_result` operation took 1.115 s, which may be a performance bottleneck.\n",
      "2024-04-24 03:17:17,734\tWARNING util.py:202 -- Processing trial results took 1.117 s, which may be a performance bottleneck. Please consider reporting results less frequently to Ray Tune.\n",
      "2024-04-24 03:17:17,735\tWARNING util.py:202 -- The `process_trial_result` operation took 1.118 s, which may be a performance bottleneck.\n",
      "2024-04-24 03:17:19,452\tWARNING util.py:202 -- The `process_trial_result` operation took 0.870 s, which may be a performance bottleneck.\n",
      "2024-04-24 03:17:19,456\tWARNING util.py:202 -- Processing trial results took 0.874 s, which may be a performance bottleneck. Please consider reporting results less frequently to Ray Tune.\n",
      "2024-04-24 03:17:19,457\tWARNING util.py:202 -- The `process_trial_result` operation took 0.875 s, which may be a performance bottleneck.\n",
      "2024-04-24 03:17:28,815\tWARNING experiment_state.py:323 -- Experiment checkpoint syncing has been triggered multiple times in the last 30.0 seconds. A sync will be triggered whenever a trial has checkpointed more than `num_to_keep` times since last sync or if 300 seconds have passed since last sync. If you have set `num_to_keep` in your `CheckpointConfig`, consider increasing the checkpoint frequency or keeping more checkpoints. You can supress this warning by changing the `TUNE_WARN_EXCESSIVE_EXPERIMENT_CHECKPOINT_SYNC_THRESHOLD_S` environment variable.\n",
      "2024-04-24 03:17:28,828\tINFO tune.py:1042 -- Total run time: 19.31 seconds (15.80 seconds for the tuning loop).\n"
     ]
    }
   ],
   "source": [
    "config = {\n",
    "    \"objective\": \"binary:logistic\",\n",
    "    \"eval_metric\": [\"logloss\", \"error\"],\n",
    "    \"tree_method\": \"gpu_hist\",\n",
    "    \"max_depth\": tune.randint(1, 9),\n",
    "    \"min_child_weight\": tune.choice([1, 2, 3]),\n",
    "    \"subsample\": tune.uniform(0.5, 1.0),\n",
    "    \"eta\": tune.loguniform(1e-4, 1e-1),\n",
    "}\n",
    "\n",
    "tuner = tune.Tuner(\n",
    "    tune.with_resources(train_breast_cancer, resources={\"cpu\": 1, \"gpu\": 0.1}),\n",
    "    tune_config=tune.TuneConfig(num_samples=10),\n",
    "    run_config=ray.train.RunConfig(\n",
    "            storage_path=\"/home/artifacts/gpu\"\n",
    "        ),\n",
    "    param_space=config,\n",
    ")\n",
    "results = tuner.fit()"
   ]
  },
  {
   "cell_type": "markdown",
   "id": "cdcfeaf1-0d41-470f-90c5-fdac8951314a",
   "metadata": {},
   "source": [
    "### Using full GPUs"
   ]
  },
  {
   "cell_type": "code",
   "execution_count": 14,
   "id": "34ec4183-0e9e-48d9-b7e3-b11595cc3fad",
   "metadata": {},
   "outputs": [
    {
     "name": "stdout",
     "output_type": "stream",
     "text": [
      "{'CPU': 40.0, 'custom_llm_serving_label': 4.0, 'GPU': 5.0, 'memory': 112660925646.0, 'object_store_memory': 49694317362.0, 'accelerator_type:A10G': 5.0, 'node:10.244.24.11': 1.0, 'node:10.244.21.11': 1.0, 'node:__internal_head__': 1.0, 'node:10.244.23.11': 1.0, 'node:10.244.22.11': 1.0, 'node:10.244.20.11': 1.0}\n"
     ]
    }
   ],
   "source": [
    "print(ray.cluster_resources())"
   ]
  },
  {
   "cell_type": "code",
   "execution_count": 15,
   "id": "d8b9d727-0fcc-4acf-9155-8d941d000925",
   "metadata": {},
   "outputs": [
    {
     "data": {
      "text/html": [
       "<div class=\"tuneStatus\">\n",
       "  <div style=\"display: flex;flex-direction: row\">\n",
       "    <div style=\"display: flex;flex-direction: column;\">\n",
       "      <h3>Tune Status</h3>\n",
       "      <table>\n",
       "<tbody>\n",
       "<tr><td>Current time:</td><td>2024-04-24 03:16:28</td></tr>\n",
       "<tr><td>Running for: </td><td>00:00:16.11        </td></tr>\n",
       "<tr><td>Memory:      </td><td>5.6/31.0 GiB       </td></tr>\n",
       "</tbody>\n",
       "</table>\n",
       "    </div>\n",
       "    <div class=\"vDivider\"></div>\n",
       "    <div class=\"systemInfo\">\n",
       "      <h3>System Info</h3>\n",
       "      Using FIFO scheduling algorithm.<br>Logical resource usage: 8.0/40 CPUs, 1.0/5 GPUs (0.0/4.0 custom_llm_serving_label, 0.0/5.0 accelerator_type:A10G)\n",
       "    </div>\n",
       "    \n",
       "  </div>\n",
       "  <div class=\"hDivider\"></div>\n",
       "  <div class=\"trialStatus\">\n",
       "    <h3>Trial Status</h3>\n",
       "    <table>\n",
       "<thead>\n",
       "<tr><th>Trial name                     </th><th>status    </th><th>loc              </th><th style=\"text-align: right;\">        eta</th><th style=\"text-align: right;\">  max_depth</th><th style=\"text-align: right;\">  min_child_weight</th><th style=\"text-align: right;\">  subsample</th><th style=\"text-align: right;\">  iter</th><th style=\"text-align: right;\">  total time (s)</th><th style=\"text-align: right;\">  eval-logloss</th><th style=\"text-align: right;\">  eval-error</th></tr>\n",
       "</thead>\n",
       "<tbody>\n",
       "<tr><td>train_breast_cancer_00a1d_00000</td><td>TERMINATED</td><td>10.244.22.11:3166</td><td style=\"text-align: right;\">0.0179594  </td><td style=\"text-align: right;\">          3</td><td style=\"text-align: right;\">                 1</td><td style=\"text-align: right;\">   0.984443</td><td style=\"text-align: right;\">    10</td><td style=\"text-align: right;\">         4.0411 </td><td style=\"text-align: right;\">      0.549803</td><td style=\"text-align: right;\">   0.41958  </td></tr>\n",
       "<tr><td>train_breast_cancer_00a1d_00001</td><td>TERMINATED</td><td>10.244.20.11:3178</td><td style=\"text-align: right;\">0.00421678 </td><td style=\"text-align: right;\">          5</td><td style=\"text-align: right;\">                 1</td><td style=\"text-align: right;\">   0.729926</td><td style=\"text-align: right;\">    10</td><td style=\"text-align: right;\">         4.24851</td><td style=\"text-align: right;\">      0.6206  </td><td style=\"text-align: right;\">   0.356643 </td></tr>\n",
       "<tr><td>train_breast_cancer_00a1d_00002</td><td>TERMINATED</td><td>10.244.23.11:3171</td><td style=\"text-align: right;\">0.00939542 </td><td style=\"text-align: right;\">          2</td><td style=\"text-align: right;\">                 2</td><td style=\"text-align: right;\">   0.78684 </td><td style=\"text-align: right;\">    10</td><td style=\"text-align: right;\">         4.48187</td><td style=\"text-align: right;\">      0.597924</td><td style=\"text-align: right;\">   0.377622 </td></tr>\n",
       "<tr><td>train_breast_cancer_00a1d_00003</td><td>TERMINATED</td><td>10.244.21.11:9064</td><td style=\"text-align: right;\">0.00159404 </td><td style=\"text-align: right;\">          3</td><td style=\"text-align: right;\">                 1</td><td style=\"text-align: right;\">   0.894546</td><td style=\"text-align: right;\">    10</td><td style=\"text-align: right;\">         3.88173</td><td style=\"text-align: right;\">      0.629469</td><td style=\"text-align: right;\">   0.328671 </td></tr>\n",
       "<tr><td>train_breast_cancer_00a1d_00004</td><td>TERMINATED</td><td>10.244.24.11:3177</td><td style=\"text-align: right;\">0.0299336  </td><td style=\"text-align: right;\">          2</td><td style=\"text-align: right;\">                 1</td><td style=\"text-align: right;\">   0.501463</td><td style=\"text-align: right;\">    10</td><td style=\"text-align: right;\">         4.36485</td><td style=\"text-align: right;\">      0.489318</td><td style=\"text-align: right;\">   0.111888 </td></tr>\n",
       "<tr><td>train_breast_cancer_00a1d_00005</td><td>TERMINATED</td><td>10.244.22.11:3166</td><td style=\"text-align: right;\">0.000822765</td><td style=\"text-align: right;\">          2</td><td style=\"text-align: right;\">                 3</td><td style=\"text-align: right;\">   0.995724</td><td style=\"text-align: right;\">    10</td><td style=\"text-align: right;\">         3.37216</td><td style=\"text-align: right;\">      0.672394</td><td style=\"text-align: right;\">   0.405594 </td></tr>\n",
       "<tr><td>train_breast_cancer_00a1d_00006</td><td>TERMINATED</td><td>10.244.20.11:3178</td><td style=\"text-align: right;\">0.0553259  </td><td style=\"text-align: right;\">          1</td><td style=\"text-align: right;\">                 2</td><td style=\"text-align: right;\">   0.927009</td><td style=\"text-align: right;\">    10</td><td style=\"text-align: right;\">         3.78218</td><td style=\"text-align: right;\">      0.408695</td><td style=\"text-align: right;\">   0.0839161</td></tr>\n",
       "<tr><td>train_breast_cancer_00a1d_00007</td><td>TERMINATED</td><td>10.244.23.11:3171</td><td style=\"text-align: right;\">0.000513916</td><td style=\"text-align: right;\">          2</td><td style=\"text-align: right;\">                 1</td><td style=\"text-align: right;\">   0.886468</td><td style=\"text-align: right;\">    10</td><td style=\"text-align: right;\">         3.84492</td><td style=\"text-align: right;\">      0.687948</td><td style=\"text-align: right;\">   0.426573 </td></tr>\n",
       "<tr><td>train_breast_cancer_00a1d_00008</td><td>TERMINATED</td><td>10.244.24.11:3177</td><td style=\"text-align: right;\">0.0099043  </td><td style=\"text-align: right;\">          7</td><td style=\"text-align: right;\">                 2</td><td style=\"text-align: right;\">   0.607801</td><td style=\"text-align: right;\">    10</td><td style=\"text-align: right;\">         3.66883</td><td style=\"text-align: right;\">      0.627885</td><td style=\"text-align: right;\">   0.447552 </td></tr>\n",
       "<tr><td>train_breast_cancer_00a1d_00009</td><td>TERMINATED</td><td>10.244.21.11:9064</td><td style=\"text-align: right;\">0.000425053</td><td style=\"text-align: right;\">          1</td><td style=\"text-align: right;\">                 2</td><td style=\"text-align: right;\">   0.732263</td><td style=\"text-align: right;\">    10</td><td style=\"text-align: right;\">         3.38077</td><td style=\"text-align: right;\">      0.656703</td><td style=\"text-align: right;\">   0.370629 </td></tr>\n",
       "</tbody>\n",
       "</table>\n",
       "  </div>\n",
       "</div>\n",
       "<style>\n",
       ".tuneStatus {\n",
       "  color: var(--jp-ui-font-color1);\n",
       "}\n",
       ".tuneStatus .systemInfo {\n",
       "  display: flex;\n",
       "  flex-direction: column;\n",
       "}\n",
       ".tuneStatus td {\n",
       "  white-space: nowrap;\n",
       "}\n",
       ".tuneStatus .trialStatus {\n",
       "  display: flex;\n",
       "  flex-direction: column;\n",
       "}\n",
       ".tuneStatus h3 {\n",
       "  font-weight: bold;\n",
       "}\n",
       ".tuneStatus .hDivider {\n",
       "  border-bottom-width: var(--jp-border-width);\n",
       "  border-bottom-color: var(--jp-border-color0);\n",
       "  border-bottom-style: solid;\n",
       "}\n",
       ".tuneStatus .vDivider {\n",
       "  border-left-width: var(--jp-border-width);\n",
       "  border-left-color: var(--jp-border-color0);\n",
       "  border-left-style: solid;\n",
       "  margin: 0.5em 1em 0.5em 1em;\n",
       "}\n",
       "</style>\n"
      ],
      "text/plain": [
       "<IPython.core.display.HTML object>"
      ]
     },
     "metadata": {},
     "output_type": "display_data"
    },
    {
     "name": "stderr",
     "output_type": "stream",
     "text": [
      "2024-04-24 03:16:28,257\tWARNING experiment_state.py:323 -- Experiment checkpoint syncing has been triggered multiple times in the last 30.0 seconds. A sync will be triggered whenever a trial has checkpointed more than `num_to_keep` times since last sync or if 300 seconds have passed since last sync. If you have set `num_to_keep` in your `CheckpointConfig`, consider increasing the checkpoint frequency or keeping more checkpoints. You can supress this warning by changing the `TUNE_WARN_EXCESSIVE_EXPERIMENT_CHECKPOINT_SYNC_THRESHOLD_S` environment variable.\n",
      "2024-04-24 03:16:28,266\tINFO tune.py:1042 -- Total run time: 16.57 seconds (13.40 seconds for the tuning loop).\n"
     ]
    }
   ],
   "source": [
    "config = {\n",
    "    \"objective\": \"binary:logistic\",\n",
    "    \"eval_metric\": [\"logloss\", \"error\"],\n",
    "    \"tree_method\": \"gpu_hist\",\n",
    "    \"max_depth\": tune.randint(1, 9),\n",
    "    \"min_child_weight\": tune.choice([1, 2, 3]),\n",
    "    \"subsample\": tune.uniform(0.5, 1.0),\n",
    "    \"eta\": tune.loguniform(1e-4, 1e-1),\n",
    "}\n",
    "\n",
    "tuner = tune.Tuner(\n",
    "    tune.with_resources(train_breast_cancer, resources={\"cpu\": 8, \"gpu\": 1}),\n",
    "    tune_config=tune.TuneConfig(num_samples=10),\n",
    "    run_config=ray.train.RunConfig(\n",
    "            storage_path=\"/home/artifacts/gpufull\"\n",
    "        ),\n",
    "    param_space=config,\n",
    ")\n",
    "results = tuner.fit()"
   ]
  },
  {
   "cell_type": "code",
   "execution_count": null,
   "id": "8bf08726-d8f2-4863-a76d-ddf867b7005e",
   "metadata": {},
   "outputs": [],
   "source": []
  }
 ],
 "metadata": {
  "kernelspec": {
   "display_name": "Python 3 (ipykernel)",
   "language": "python",
   "name": "python3"
  },
  "language_info": {
   "codemirror_mode": {
    "name": "ipython",
    "version": 3
   },
   "file_extension": ".py",
   "mimetype": "text/x-python",
   "name": "python",
   "nbconvert_exporter": "python",
   "pygments_lexer": "ipython3",
   "version": "3.8.10"
  }
 },
 "nbformat": 4,
 "nbformat_minor": 5
}
