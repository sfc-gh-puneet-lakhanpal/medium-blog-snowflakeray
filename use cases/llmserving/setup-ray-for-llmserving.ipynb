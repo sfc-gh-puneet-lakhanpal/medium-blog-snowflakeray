{
 "cells": [
  {
   "cell_type": "markdown",
   "id": "cef8b014-80f4-491d-918f-ea832db3f2b3",
   "metadata": {},
   "source": [
    "# Testing Ray Setup for LLM Serving"
   ]
  },
  {
   "cell_type": "code",
   "execution_count": 1,
   "id": "610dd986",
   "metadata": {},
   "outputs": [],
   "source": [
    "from snowflakeray.cluster_init import SnowflakeRay\n",
    "from snowflake.snowpark import Session\n",
    "import json\n",
    "from pprint import pprint"
   ]
  },
  {
   "cell_type": "markdown",
   "id": "c101b9a7",
   "metadata": {},
   "source": [
    "### Setup Snowpark Session"
   ]
  },
  {
   "cell_type": "code",
   "execution_count": 2,
   "id": "0b5d1bdb",
   "metadata": {},
   "outputs": [],
   "source": [
    "with open('creds.json') as f:\n",
    "    data = json.load(f)\n",
    "    username = data['username']\n",
    "    password = data['password']\n",
    "    account = data[\"account\"]\n",
    "    warehouse = data[\"warehouse\"]\n",
    "    database = data[\"database\"]\n",
    "    schema = data[\"schema\"]\n",
    "    role = data[\"role\"]\n",
    "\n",
    "\n",
    "CONNECTION_PARAMETERS = {\n",
    "    'account': account,\n",
    "    'user': username,\n",
    "    'password': password,\n",
    "    'schema': schema,\n",
    "    'database': database,\n",
    "    'warehouse': warehouse,\n",
    "    'role': role,\n",
    "    \"session_parameters\": {\"PYTHON_CONNECTOR_QUERY_RESULT_FORMAT\": \"json\"}\n",
    "}"
   ]
  },
  {
   "cell_type": "code",
   "execution_count": 3,
   "id": "c7fee7a7",
   "metadata": {},
   "outputs": [
    {
     "name": "stderr",
     "output_type": "stream",
     "text": [
      "/Users/plakhanpal/anaconda3/envs/mediumblogsnowflakeray/lib/python3.10/site-packages/snowflake/connector/config_manager.py:344: UserWarning: Bad owner or permissions on /Users/plakhanpal/Library/Application Support/snowflake/config.toml.\n",
      " * To change owner, run `chown $USER \"/Users/plakhanpal/Library/Application Support/snowflake/config.toml\"`.\n",
      " * To restrict permissions, run `chmod 0600 \"/Users/plakhanpal/Library/Application Support/snowflake/config.toml\"`.\n",
      "\n",
      "  warn(f\"Bad owner or permissions on {str(filep)}{chmod_message}\")\n"
     ]
    }
   ],
   "source": [
    "session = Session.builder.configs(CONNECTION_PARAMETERS).create()"
   ]
  },
  {
   "cell_type": "code",
   "execution_count": 4,
   "id": "0a7e004b",
   "metadata": {},
   "outputs": [],
   "source": [
    "project_name = \"llm serving\""
   ]
  },
  {
   "cell_type": "markdown",
   "id": "1880a723",
   "metadata": {},
   "source": [
    "### Bring your own compute pools for LLM Serving"
   ]
  },
  {
   "cell_type": "code",
   "execution_count": 5,
   "id": "f409b1c9",
   "metadata": {},
   "outputs": [],
   "source": [
    "head_compute_pool_name = \"RAY_HEAD_CP_LLM_SERVING\"\n",
    "worker_compute_pool_name = \"RAY_WORKER_CP_LLM_SERVING\""
   ]
  },
  {
   "cell_type": "code",
   "execution_count": 6,
   "id": "91aa1126",
   "metadata": {},
   "outputs": [],
   "source": [
    "ray_head_cp_sql = f\"\"\"\n",
    "    create compute pool if not exists {head_compute_pool_name}\n",
    "        min_nodes = 1\n",
    "        max_nodes = 1\n",
    "        instance_family = GPU_NV_S\n",
    "        auto_resume = TRUE\n",
    "        AUTO_SUSPEND_SECS = 3600;\n",
    "\"\"\""
   ]
  },
  {
   "cell_type": "code",
   "execution_count": 7,
   "id": "3c70e6bc",
   "metadata": {},
   "outputs": [],
   "source": [
    "ray_worker_cp_sql = f\"\"\"\n",
    "    create compute pool if not exists {worker_compute_pool_name}\n",
    "        min_nodes = 2\n",
    "        max_nodes = 2\n",
    "        instance_family = GPU_NV_M\n",
    "        auto_resume = TRUE\n",
    "        AUTO_SUSPEND_SECS = 3600;\n",
    "\"\"\""
   ]
  },
  {
   "cell_type": "code",
   "execution_count": 8,
   "id": "d131a366",
   "metadata": {},
   "outputs": [
    {
     "data": {
      "text/plain": [
       "[Row(status='RAY_HEAD_CP_LLM_SERVING already exists, statement succeeded.')]"
      ]
     },
     "execution_count": 8,
     "metadata": {},
     "output_type": "execute_result"
    }
   ],
   "source": [
    "session.sql(ray_head_cp_sql).collect()"
   ]
  },
  {
   "cell_type": "code",
   "execution_count": 9,
   "id": "7662a0fe",
   "metadata": {},
   "outputs": [
    {
     "data": {
      "text/plain": [
       "[Row(status='RAY_WORKER_CP_LLM_SERVING already exists, statement succeeded.')]"
      ]
     },
     "execution_count": 9,
     "metadata": {},
     "output_type": "execute_result"
    }
   ],
   "source": [
    "session.sql(ray_worker_cp_sql).collect()"
   ]
  },
  {
   "cell_type": "markdown",
   "id": "b48bec33",
   "metadata": {},
   "source": [
    "#### Initiate SnowflakeRay object"
   ]
  },
  {
   "cell_type": "code",
   "execution_count": 13,
   "id": "4bc7bec2",
   "metadata": {},
   "outputs": [],
   "source": [
    "snowflake_ray = SnowflakeRay(session=session, project_name=project_name, \n",
    "                             head_compute_pool_name=head_compute_pool_name, \n",
    "                             worker_compute_pool_name=worker_compute_pool_name)"
   ]
  },
  {
   "cell_type": "markdown",
   "id": "35e9ba26",
   "metadata": {},
   "source": [
    "#### Setup Ray Cluster now"
   ]
  },
  {
   "cell_type": "code",
   "execution_count": 14,
   "id": "8d663e1a",
   "metadata": {},
   "outputs": [
    {
     "name": "stdout",
     "output_type": "stream",
     "text": [
      "ray_head_precreated_compute_pool: True\n",
      "ray_worker_precreated_compute_pool: True\n"
     ]
    },
    {
     "name": "stderr",
     "output_type": "stream",
     "text": [
      "INFO:snowflakeray.deploy_client.utils.cluster_init_helper:Created image repo: sfsenorthamerica-demo274-awseast.registry.snowflakecomputing.com/ray_db/ray_schema/spcs_ray_image_repollmserving\n",
      "INFO:snowflakeray.deploy_client.utils.cluster_init_helper:Similar environment detected. Using existing image sfsenorthamerica-demo274-awseast.registry.snowflakecomputing.com/ray_db/ray_schema/spcs_ray_image_repollmserving/ray_grafana:48e0aa5139e19661c85469042fa8103037d755af to skip image build. To disable this feature, set 'force_image_build=True' in deployment options\n",
      "INFO:snowflakeray.deploy_client.utils.cluster_init_helper:Similar environment detected. Using existing image sfsenorthamerica-demo274-awseast.registry.snowflakecomputing.com/ray_db/ray_schema/spcs_ray_image_repollmserving/ray_prometheus:94d29dce4e2f3355da1d28a1781619418ad65135 to skip image build. To disable this feature, set 'force_image_build=True' in deployment options\n",
      "INFO:snowflakeray.deploy_client.utils.cluster_init_helper:Similar environment detected. Using existing image sfsenorthamerica-demo274-awseast.registry.snowflakecomputing.com/ray_db/ray_schema/spcs_ray_image_repollmserving/ray_base:64748f73cf14e9f31c5cf3c54551ec25c5daf1be to skip image build. To disable this feature, set 'force_image_build=True' in deployment options\n",
      "INFO:snowflakeray.deploy_client.utils.cluster_init_helper:Similar environment detected. Using existing image sfsenorthamerica-demo274-awseast.registry.snowflakecomputing.com/ray_db/ray_schema/spcs_ray_image_repollmserving/ray_head:ff27f251068846294fa94ab808a6914689105ff2 to skip image build. To disable this feature, set 'force_image_build=True' in deployment options\n",
      "INFO:snowflakeray.deploy_client.utils.cluster_init_helper:Similar environment detected. Using existing image sfsenorthamerica-demo274-awseast.registry.snowflakecomputing.com/ray_db/ray_schema/spcs_ray_image_repollmserving/ray_worker:cfdb32c304b1ce29fc54c1af236deb2be8251f17 to skip image build. To disable this feature, set 'force_image_build=True' in deployment options\n",
      "INFO:snowflakeray.deploy_client.utils.cluster_init_helper:Uploaded spec file ray_head.yaml to RAY_SPECSLLMSERVING\n",
      "INFO:snowflakeray.deploy_client.utils.cluster_init_helper:Uploaded spec file ray_worker.yaml to RAY_SPECSLLMSERVING\n",
      "INFO:snowflakeray.deploy_client.utils.cluster_init_helper:Started compute pool: RAY_HEAD_CP_LLM_SERVING\n",
      "INFO:snowflakeray.deploy_client.utils.cluster_init_helper:Started compute pool: RAY_WORKER_CP_LLM_SERVING\n",
      "INFO:snowflakeray.deploy_client.utils.snowservice_client:Creating service SPCSRAYHEADSERVICELLMSERVING\n",
      "INFO:snowflakeray.deploy_client.utils.snowservice_client:Creating service SPCSRAYWORKERSERVICELLMSERVING\n",
      "WARNING:snowflakeray.deploy_client.utils.snowservice_client:Best-effort log streaming from SPCS will be enabled when python logging level is set to INFO.Alternatively, you can also query the logs by running the query 'CALL SYSTEM$GET_SERVICE_LOGS('SPCSRAYHEADSERVICELLMSERVING', '0', 'head')'\n",
      "INFO:snowflakeray.deploy_client.utils.log_stream_processor:+ WORKLOAD=rayhead\n",
      "INFO:snowflakeray.deploy_client.utils.log_stream_processor:++ ifconfig eth0\n",
      "INFO:snowflakeray.deploy_client.utils.log_stream_processor:++ sed -En -e 's/.*inet ([0-9.]+).*/\\1/p'\n",
      "INFO:snowflakeray.deploy_client.utils.log_stream_processor:+ eth0Ip=10.244.6.12\n",
      "INFO:snowflakeray.deploy_client.utils.log_stream_processor:+ echo 'WORKLOAD: rayhead'\n",
      "INFO:snowflakeray.deploy_client.utils.log_stream_processor:WORKLOAD: rayhead\n",
      "INFO:snowflakeray.deploy_client.utils.log_stream_processor:+ '[' rayhead == rayhead ']'\n",
      "INFO:snowflakeray.deploy_client.utils.log_stream_processor:+ '[' -z http://SPCSRAYHEADSERVICELLMSERVING:3000 ']'\n",
      "INFO:snowflakeray.deploy_client.utils.log_stream_processor:+ '[' -z http://SPCSRAYHEADSERVICELLMSERVING:9090 ']'\n",
      "INFO:snowflakeray.deploy_client.utils.log_stream_processor:+ export RAY_GRAFANA_HOST=http://SPCSRAYHEADSERVICELLMSERVING:3000\n",
      "INFO:snowflakeray.deploy_client.utils.log_stream_processor:+ RAY_GRAFANA_HOST=http://SPCSRAYHEADSERVICELLMSERVING:3000\n",
      "INFO:snowflakeray.deploy_client.utils.log_stream_processor:+ export RAY_PROMETHEUS_HOST=http://SPCSRAYHEADSERVICELLMSERVING:9090\n",
      "INFO:snowflakeray.deploy_client.utils.log_stream_processor:Making log directory /raylogs/ray...\n",
      "INFO:snowflakeray.deploy_client.utils.log_stream_processor:+ RAY_PROMETHEUS_HOST=http://SPCSRAYHEADSERVICELLMSERVING:9090\n",
      "INFO:snowflakeray.deploy_client.utils.log_stream_processor:+ export log_dir=/raylogs/ray\n",
      "INFO:snowflakeray.deploy_client.utils.log_stream_processor:+ log_dir=/raylogs/ray\n",
      "INFO:snowflakeray.deploy_client.utils.log_stream_processor:+ echo 'Making log directory /raylogs/ray...'\n",
      "INFO:snowflakeray.deploy_client.utils.log_stream_processor:+ mkdir -p /raylogs/ray\n",
      "INFO:snowflakeray.deploy_client.utils.log_stream_processor:+ export RAY_ENABLE_RECORD_ACTOR_TASK_LOGGING=1\n",
      "INFO:snowflakeray.deploy_client.utils.log_stream_processor:+ RAY_ENABLE_RECORD_ACTOR_TASK_LOGGING=1\n",
      "INFO:snowflakeray.deploy_client.utils.log_stream_processor:+ export RAY_BACKEND_LOG_LEVEL=debug\n",
      "INFO:snowflakeray.deploy_client.utils.log_stream_processor:+ RAY_BACKEND_LOG_LEVEL=debug\n",
      "INFO:snowflakeray.deploy_client.utils.log_stream_processor:+ export HOST_IP=10.244.6.12\n",
      "INFO:snowflakeray.deploy_client.utils.log_stream_processor:+ HOST_IP=10.244.6.12\n",
      "INFO:snowflakeray.deploy_client.utils.log_stream_processor:+ export NCCL_DEBUG=INFO\n",
      "INFO:snowflakeray.deploy_client.utils.log_stream_processor:+ NCCL_DEBUG=INFO\n",
      "INFO:snowflakeray.deploy_client.utils.log_stream_processor:+ export NCCL_SOCKET_IFNAME=eth0\n",
      "INFO:snowflakeray.deploy_client.utils.log_stream_processor:+ NCCL_SOCKET_IFNAME=eth0\n",
      "INFO:snowflakeray.deploy_client.utils.log_stream_processor:+ jupyter lab --generate-config\n",
      "INFO:snowflakeray.deploy_client.utils.log_stream_processor:Writing default config to: /root/.jupyter/jupyter_lab_config.py\n",
      "INFO:snowflakeray.deploy_client.utils.log_stream_processor:+ ray start --node-ip-address=10.244.6.12 --head --disable-usage-stats --port=6379 --dashboard-host=0.0.0.0 --object-manager-port=8076 --node-manager-port=8077 --runtime-env-agent-port=8078 --dashboard-agent-grpc-port=8079 --dashboard-grpc-port=8080 --dashboard-agent-listen-port=8081 --metrics-export-port=8082 --ray-client-server-port=10001 --dashboard-port=8265 --temp-dir=/raylogs/ray --block\n",
      "INFO:snowflakeray.deploy_client.utils.log_stream_processor:+ nohup jupyter lab '--ip=*' --port=8888 --no-browser --allow-root --NotebookApp.password= --NotebookApp.token=\n",
      "INFO:snowflakeray.deploy_client.utils.log_stream_processor:[I 2024-05-09 22:25:25.173 ServerApp] jupyter_lsp | extension was successfully linked.\n",
      "INFO:snowflakeray.deploy_client.utils.log_stream_processor:[I 2024-05-09 22:25:25.177 ServerApp] jupyter_server_terminals | extension was successfully linked.\n",
      "INFO:snowflakeray.deploy_client.utils.log_stream_processor:[W 2024-05-09 22:25:25.178 LabApp] 'password' has moved from NotebookApp to ServerApp. This config will be passed to ServerApp. Be sure to update your config before our next release.\n",
      "INFO:snowflakeray.deploy_client.utils.log_stream_processor:[W 2024-05-09 22:25:25.179 LabApp] 'token' has moved from NotebookApp to ServerApp. This config will be passed to ServerApp. Be sure to update your config before our next release.\n",
      "INFO:snowflakeray.deploy_client.utils.log_stream_processor:[W 2024-05-09 22:25:25.182 ServerApp] ServerApp.token config is deprecated in 2.0. Use IdentityProvider.token.\n",
      "INFO:snowflakeray.deploy_client.utils.log_stream_processor:[I 2024-05-09 22:25:25.182 ServerApp] jupyterlab | extension was successfully linked.\n",
      "INFO:snowflakeray.deploy_client.utils.log_stream_processor:[I 2024-05-09 22:25:25.183 ServerApp] Writing Jupyter server cookie secret to /root/.local/share/jupyter/runtime/jupyter_cookie_secret\n",
      "INFO:snowflakeray.deploy_client.utils.log_stream_processor:[I 2024-05-09 22:25:25.384 ServerApp] notebook_shim | extension was successfully linked.\n",
      "INFO:snowflakeray.deploy_client.utils.log_stream_processor:[W 2024-05-09 22:25:25.405 ServerApp] WARNING: The Jupyter server is listening on all IP addresses and not using encryption. This is not recommended.\n",
      "INFO:snowflakeray.deploy_client.utils.log_stream_processor:[W 2024-05-09 22:25:25.405 ServerApp] WARNING: The Jupyter server is listening on all IP addresses and not using authentication. This is highly insecure and not recommended.\n",
      "INFO:snowflakeray.deploy_client.utils.log_stream_processor:[I 2024-05-09 22:25:25.405 ServerApp] notebook_shim | extension was successfully loaded.\n",
      "INFO:snowflakeray.deploy_client.utils.log_stream_processor:[I 2024-05-09 22:25:25.407 ServerApp] jupyter_lsp | extension was successfully loaded.\n",
      "INFO:snowflakeray.deploy_client.utils.log_stream_processor:[I 2024-05-09 22:25:25.408 ServerApp] jupyter_server_terminals | extension was successfully loaded.\n",
      "INFO:snowflakeray.deploy_client.utils.log_stream_processor:[I 2024-05-09 22:25:25.409 LabApp] JupyterLab extension loaded from /usr/local/lib/python3.8/dist-packages/jupyterlab\n",
      "INFO:snowflakeray.deploy_client.utils.log_stream_processor:[I 2024-05-09 22:25:25.409 LabApp] JupyterLab application directory is /usr/local/share/jupyter/lab\n",
      "INFO:snowflakeray.deploy_client.utils.log_stream_processor:[I 2024-05-09 22:25:25.410 LabApp] Extension Manager is 'pypi'.\n",
      "INFO:snowflakeray.deploy_client.utils.log_stream_processor:[I 2024-05-09 22:25:25.419 ServerApp] jupyterlab | extension was successfully loaded.\n",
      "INFO:snowflakeray.deploy_client.utils.log_stream_processor:[I 2024-05-09 22:25:25.420 ServerApp] Serving notebooks from local directory: /\n",
      "INFO:snowflakeray.deploy_client.utils.log_stream_processor:[I 2024-05-09 22:25:25.420 ServerApp] Jupyter Server 2.14.0 is running at:\n",
      "INFO:snowflakeray.deploy_client.utils.log_stream_processor:[I 2024-05-09 22:25:25.420 ServerApp] http://localhost:8888/lab\n",
      "INFO:snowflakeray.deploy_client.utils.log_stream_processor:[I 2024-05-09 22:25:25.420 ServerApp]     http://127.0.0.1:8888/lab\n",
      "INFO:snowflakeray.deploy_client.utils.log_stream_processor:[I 2024-05-09 22:25:25.420 ServerApp] Use Control-C to stop this server and shut down all kernels (twice to skip confirmation).\n",
      "INFO:snowflakeray.deploy_client.utils.log_stream_processor:[I 2024-05-09 22:25:25.447 ServerApp] Skipped non-installed server(s): bash-language-server, dockerfile-language-server-nodejs, javascript-typescript-langserver, jedi-language-server, julia-language-server, pyright, python-language-server, python-lsp-server, r-languageserver, sql-language-server, texlab, typescript-language-server, unified-language-server, vscode-css-languageserver-bin, vscode-html-languageserver-bin, vscode-json-languageserver-bin, yaml-language-server\n",
      "INFO:snowflakeray.deploy_client.utils.log_stream_processor:2024-05-09 22:25:25,974\tINFO usage_lib.py:443 -- Usage stats collection is disabled.\n",
      "INFO:snowflakeray.deploy_client.utils.log_stream_processor:2024-05-09 22:25:25,974\tINFO scripts.py:763 -- \u001b[37mLocal node IP\u001b[39m: \u001b[1m10.244.6.12\u001b[22m\n",
      "INFO:snowflakeray.deploy_client.utils.log_stream_processor:\n",
      "WARNING:snowflakeray.deploy_client.utils.snowservice_client:Best-effort log streaming from SPCS will be enabled when python logging level is set to INFO.Alternatively, you can also query the logs by running the query 'CALL SYSTEM$GET_SERVICE_LOGS('SPCSRAYWORKERSERVICELLMSERVING', '0', 'worker')'\n",
      "INFO:snowflakeray.deploy_client.utils.log_stream_processor:+ WORKLOAD=rayworker\n",
      "INFO:snowflakeray.deploy_client.utils.log_stream_processor:++ ifconfig eth0\n",
      "INFO:snowflakeray.deploy_client.utils.log_stream_processor:++ sed -En -e 's/.*inet ([0-9.]+).*/\\1/p'\n",
      "INFO:snowflakeray.deploy_client.utils.log_stream_processor:+ eth0Ip=10.244.4.12\n",
      "INFO:snowflakeray.deploy_client.utils.log_stream_processor:+ echo 'WORKLOAD: rayworker'\n",
      "INFO:snowflakeray.deploy_client.utils.log_stream_processor:WORKLOAD: rayworker\n",
      "INFO:snowflakeray.deploy_client.utils.log_stream_processor:+ '[' rayworker == rayhead ']'\n",
      "INFO:snowflakeray.deploy_client.utils.log_stream_processor:+ '[' rayworker == rayworker ']'\n",
      "INFO:snowflakeray.deploy_client.utils.log_stream_processor:+ '[' -z SPCSRAYHEADSERVICELLMSERVING:6379 ']'\n",
      "INFO:snowflakeray.deploy_client.utils.log_stream_processor:+ export RAY_ENABLE_RECORD_ACTOR_TASK_LOGGING=1\n",
      "INFO:snowflakeray.deploy_client.utils.log_stream_processor:+ RAY_ENABLE_RECORD_ACTOR_TASK_LOGGING=1\n",
      "INFO:snowflakeray.deploy_client.utils.log_stream_processor:+ export RAY_BACKEND_LOG_LEVEL=debug\n",
      "INFO:snowflakeray.deploy_client.utils.log_stream_processor:+ RAY_BACKEND_LOG_LEVEL=debug\n",
      "INFO:snowflakeray.deploy_client.utils.log_stream_processor:+ export HOST_IP=10.244.4.12\n",
      "INFO:snowflakeray.deploy_client.utils.log_stream_processor:+ HOST_IP=10.244.4.12\n",
      "INFO:snowflakeray.deploy_client.utils.log_stream_processor:+ export NCCL_DEBUG=INFO\n",
      "INFO:snowflakeray.deploy_client.utils.log_stream_processor:+ NCCL_DEBUG=INFO\n",
      "INFO:snowflakeray.deploy_client.utils.log_stream_processor:+ export NCCL_SOCKET_IFNAME=eth0\n",
      "INFO:snowflakeray.deploy_client.utils.log_stream_processor:+ NCCL_SOCKET_IFNAME=eth0\n",
      "INFO:snowflakeray.deploy_client.utils.log_stream_processor:+ ray start --node-ip-address=10.244.4.12 --disable-usage-stats --address=SPCSRAYHEADSERVICELLMSERVING:6379 '--resources={\"custom_llm_serving_label\": 1}' --object-manager-port=8076 --node-manager-port=8077 --runtime-env-agent-port=8078 --dashboard-agent-grpc-port=8079 --dashboard-agent-listen-port=8081 --metrics-export-port=8082 --block\n",
      "INFO:snowflakeray.deploy_client.utils.log_stream_processor:2024-05-09 22:25:32,298\tINFO scripts.py:945 -- \u001b[37mLocal node IP\u001b[39m: \u001b[1m10.244.4.12\u001b[22m\n",
      "INFO:snowflakeray.deploy_client.utils.log_stream_processor:\n",
      "INFO:snowflakeray.deploy_client.utils.cluster_init_helper:Public endpoints not ready, waiting\n",
      "INFO:snowflakeray.deploy_client.utils.cluster_init_helper:Public endpoints not ready, waiting\n",
      "INFO:snowflakeray.deploy_client.utils.cluster_init_helper:Public endpoints not ready, waiting\n",
      "INFO:snowflakeray.deploy_client.utils.cluster_init_helper:Public endpoints not ready, waiting\n",
      "INFO:snowflakeray.deploy_client.utils.cluster_init_helper:Public endpoints not ready, waiting\n"
     ]
    }
   ],
   "source": [
    "endpoints = snowflake_ray.setup_ray_cluster(stage_name_for_specs=\"RAY_SPECS\", stage_name_for_artifacts=\"ARTIFACTS\", \n",
    "                                            external_access_integrations=[\"ALLOW_ALL_EAI\"], \n",
    "                                            ray_requirements=[\"ray[data]==2.10.0\", \"ray[client]==2.10.0\", \"ray[default]==2.10.0\", \n",
    "                                                              \"ray[serve]==2.10.0\"],\n",
    "                                            pip_requirements=[\"jupyterlab\", \"py-spy\", \"ipywidgets\", \"virtualenv\", \"datasets==2.18.0\", \n",
    "                                                              \"numpy\", \"transformers==4.39.3\", \"evaluate\", \"torch==2.1.2\", \n",
    "                                                              \"accelerate==0.29.3\", \"tokenizers==0.15.2\", \"pandas==1.5.3\", \n",
    "                                                              \"pytorch_lightning==2.0.3\", \"deepspeed==0.14.1\", \"sentencepiece==0.2.0\", \n",
    "                                                              \"torchvision==0.16.2\", \"bitsandbytes==0.43.1\", \"tiktoken==0.6.0\", \n",
    "                                                              \"tqdm==4.66.2\", \"vllm==0.4.0\", \"xformers==0.0.23.post1\", \n",
    "                                                              \"huggingface-hub==0.22.2\", \"sentence-transformers\"])"
   ]
  },
  {
   "cell_type": "code",
   "execution_count": 15,
   "id": "ef2a98a9",
   "metadata": {},
   "outputs": [
    {
     "data": {
      "text/plain": [
       "[{'api': 'nlwmi-sfsenorthamerica-demo274-awseast.snowflakecomputing.app'},\n",
       " {'notebook': 'nlwmm-sfsenorthamerica-demo274-awseast.snowflakecomputing.app'},\n",
       " {'ray-client-server-port': 'nlwmq-sfsenorthamerica-demo274-awseast.snowflakecomputing.app'},\n",
       " {'prometheus': 'nlwmu-sfsenorthamerica-demo274-awseast.snowflakecomputing.app'},\n",
       " {'grafana': 'nlwmy-sfsenorthamerica-demo274-awseast.snowflakecomputing.app'},\n",
       " {'ray-dashboard': 'nlwm4-sfsenorthamerica-demo274-awseast.snowflakecomputing.app'}]"
      ]
     },
     "execution_count": 15,
     "metadata": {},
     "output_type": "execute_result"
    }
   ],
   "source": [
    "endpoints"
   ]
  },
  {
   "cell_type": "markdown",
   "id": "d1e64125",
   "metadata": {},
   "source": [
    "### Get service endpoints independent of the command above (optional)"
   ]
  },
  {
   "cell_type": "code",
   "execution_count": 16,
   "id": "403bf8eb",
   "metadata": {},
   "outputs": [
    {
     "name": "stdout",
     "output_type": "stream",
     "text": [
      "[{'api': 'nlwmi-sfsenorthamerica-demo274-awseast.snowflakecomputing.app'},\n",
      " {'notebook': 'nlwmm-sfsenorthamerica-demo274-awseast.snowflakecomputing.app'},\n",
      " {'ray-client-server-port': 'nlwmq-sfsenorthamerica-demo274-awseast.snowflakecomputing.app'},\n",
      " {'prometheus': 'nlwmu-sfsenorthamerica-demo274-awseast.snowflakecomputing.app'},\n",
      " {'grafana': 'nlwmy-sfsenorthamerica-demo274-awseast.snowflakecomputing.app'},\n",
      " {'ray-dashboard': 'nlwm4-sfsenorthamerica-demo274-awseast.snowflakecomputing.app'}]\n"
     ]
    }
   ],
   "source": [
    "pprint(snowflake_ray.get_public_endpoints())"
   ]
  },
  {
   "cell_type": "markdown",
   "id": "750b5f77",
   "metadata": {},
   "source": [
    "### Get ray head service status"
   ]
  },
  {
   "cell_type": "code",
   "execution_count": 17,
   "id": "6afdadc6",
   "metadata": {},
   "outputs": [
    {
     "name": "stdout",
     "output_type": "stream",
     "text": [
      "[{'containerName': 'head',\n",
      "  'image': 'sfsenorthamerica-demo274-awseast.registry.snowflakecomputing.com/ray_db/ray_schema/spcs_ray_image_repollmserving/ray_head:ff27f251068846294fa94ab808a6914689105ff2',\n",
      "  'instanceId': '0',\n",
      "  'message': 'Running',\n",
      "  'restartCount': 0,\n",
      "  'serviceName': 'SPCSRAYHEADSERVICELLMSERVING',\n",
      "  'startTime': '2024-05-09T22:25:23Z',\n",
      "  'status': 'READY'},\n",
      " {'containerName': 'prometheus',\n",
      "  'image': 'sfsenorthamerica-demo274-awseast.registry.snowflakecomputing.com/ray_db/ray_schema/spcs_ray_image_repollmserving/ray_prometheus:94d29dce4e2f3355da1d28a1781619418ad65135',\n",
      "  'instanceId': '0',\n",
      "  'message': 'Running',\n",
      "  'restartCount': 0,\n",
      "  'serviceName': 'SPCSRAYHEADSERVICELLMSERVING',\n",
      "  'startTime': '2024-05-09T22:25:26Z',\n",
      "  'status': 'READY'},\n",
      " {'containerName': 'grafana',\n",
      "  'image': 'sfsenorthamerica-demo274-awseast.registry.snowflakecomputing.com/ray_db/ray_schema/spcs_ray_image_repollmserving/ray_grafana:48e0aa5139e19661c85469042fa8103037d755af',\n",
      "  'instanceId': '0',\n",
      "  'message': 'Running',\n",
      "  'restartCount': 0,\n",
      "  'serviceName': 'SPCSRAYHEADSERVICELLMSERVING',\n",
      "  'startTime': '2024-05-09T22:25:32Z',\n",
      "  'status': 'READY'}]\n"
     ]
    }
   ],
   "source": [
    "pprint(snowflake_ray.get_ray_head_service_status())"
   ]
  },
  {
   "cell_type": "markdown",
   "id": "fbd8ca6e",
   "metadata": {},
   "source": [
    "### Get ray head service logs"
   ]
  },
  {
   "cell_type": "code",
   "execution_count": 18,
   "id": "bbf15db6",
   "metadata": {},
   "outputs": [
    {
     "name": "stdout",
     "output_type": "stream",
     "text": [
      "('[{\\'SYSTEM$GET_SERVICE_LOGS\\': \"+ WORKLOAD=rayhead\\\\n++ ifconfig eth0\\\\n++ '\n",
      " \"sed -En -e 's/.*inet ([0-9.]+).*/\\\\\\\\1/p'\\\\n+ eth0Ip=10.244.6.12\\\\n+ echo \"\n",
      " \"'WORKLOAD: rayhead'\\\\nWORKLOAD: rayhead\\\\n+ '[' rayhead == rayhead ']'\\\\n+ \"\n",
      " \"'[' -z http://SPCSRAYHEADSERVICELLMSERVING:3000 ']'\\\\n+ '[' -z \"\n",
      " \"http://SPCSRAYHEADSERVICELLMSERVING:9090 ']'\\\\n+ export \"\n",
      " 'RAY_GRAFANA_HOST=http://SPCSRAYHEADSERVICELLMSERVING:3000\\\\n+ '\n",
      " 'RAY_GRAFANA_HOST=http://SPCSRAYHEADSERVICELLMSERVING:3000\\\\n+ export '\n",
      " 'RAY_PROMETHEUS_HOST=http://SPCSRAYHEADSERVICELLMSERVING:9090\\\\nMaking log '\n",
      " 'directory /raylogs/ray...\\\\n+ '\n",
      " 'RAY_PROMETHEUS_HOST=http://SPCSRAYHEADSERVICELLMSERVING:9090\\\\n+ export '\n",
      " \"log_dir=/raylogs/ray\\\\n+ log_dir=/raylogs/ray\\\\n+ echo 'Making log directory \"\n",
      " \"/raylogs/ray...'\\\\n+ mkdir -p /raylogs/ray\\\\n+ export \"\n",
      " 'RAY_ENABLE_RECORD_ACTOR_TASK_LOGGING=1\\\\n+ '\n",
      " 'RAY_ENABLE_RECORD_ACTOR_TASK_LOGGING=1\\\\n+ export '\n",
      " 'RAY_BACKEND_LOG_LEVEL=debug\\\\n+ RAY_BACKEND_LOG_LEVEL=debug\\\\n+ export '\n",
      " 'HOST_IP=10.244.6.12\\\\n+ HOST_IP=10.244.6.12\\\\n+ export NCCL_DEBUG=INFO\\\\n+ '\n",
      " 'NCCL_DEBUG=INFO\\\\n+ export NCCL_SOCKET_IFNAME=eth0\\\\n+ '\n",
      " 'NCCL_SOCKET_IFNAME=eth0\\\\n+ jupyter lab --generate-config\\\\nWriting default '\n",
      " 'config to: /root/.jupyter/jupyter_lab_config.py\\\\n+ ray start '\n",
      " '--node-ip-address=10.244.6.12 --head --disable-usage-stats --port=6379 '\n",
      " '--dashboard-host=0.0.0.0 --object-manager-port=8076 --node-manager-port=8077 '\n",
      " '--runtime-env-agent-port=8078 --dashboard-agent-grpc-port=8079 '\n",
      " '--dashboard-grpc-port=8080 --dashboard-agent-listen-port=8081 '\n",
      " '--metrics-export-port=8082 --ray-client-server-port=10001 '\n",
      " '--dashboard-port=8265 --temp-dir=/raylogs/ray --block\\\\n+ nohup jupyter lab '\n",
      " \"'--ip=*' --port=8888 --no-browser --allow-root --NotebookApp.password= \"\n",
      " '--NotebookApp.token=\\\\n[I 2024-05-09 22:25:25.173 ServerApp] jupyter_lsp | '\n",
      " 'extension was successfully linked.\\\\n[I 2024-05-09 22:25:25.177 ServerApp] '\n",
      " 'jupyter_server_terminals | extension was successfully linked.\\\\n[W '\n",
      " \"2024-05-09 22:25:25.178 LabApp] 'password' has moved from NotebookApp to \"\n",
      " 'ServerApp. This config will be passed to ServerApp. Be sure to update your '\n",
      " \"config before our next release.\\\\n[W 2024-05-09 22:25:25.179 LabApp] 'token' \"\n",
      " 'has moved from NotebookApp to ServerApp. This config will be passed to '\n",
      " 'ServerApp. Be sure to update your config before our next release.\\\\n[W '\n",
      " '2024-05-09 22:25:25.182 ServerApp] ServerApp.token config is deprecated in '\n",
      " '2.0. Use IdentityProvider.token.\\\\n[I 2024-05-09 22:25:25.182 ServerApp] '\n",
      " 'jupyterlab | extension was successfully linked.\\\\n[I 2024-05-09 22:25:25.183 '\n",
      " 'ServerApp] Writing Jupyter server cookie secret to '\n",
      " '/root/.local/share/jupyter/runtime/jupyter_cookie_secret\\\\n[I 2024-05-09 '\n",
      " '22:25:25.384 ServerApp] notebook_shim | extension was successfully '\n",
      " 'linked.\\\\n[W 2024-05-09 22:25:25.405 ServerApp] WARNING: The Jupyter server '\n",
      " 'is listening on all IP addresses and not using encryption. This is not '\n",
      " 'recommended.\\\\n[W 2024-05-09 22:25:25.405 ServerApp] WARNING: The Jupyter '\n",
      " 'server is listening on all IP addresses and not using authentication. This '\n",
      " 'is highly insecure and not recommended.\\\\n[I 2024-05-09 22:25:25.405 '\n",
      " 'ServerApp] notebook_shim | extension was successfully loaded.\\\\n[I '\n",
      " '2024-05-09 22:25:25.407 ServerApp] jupyter_lsp | extension was successfully '\n",
      " 'loaded.\\\\n[I 2024-05-09 22:25:25.408 ServerApp] jupyter_server_terminals | '\n",
      " 'extension was successfully loaded.\\\\n[I 2024-05-09 22:25:25.409 LabApp] '\n",
      " 'JupyterLab extension loaded from '\n",
      " '/usr/local/lib/python3.8/dist-packages/jupyterlab\\\\n[I 2024-05-09 '\n",
      " '22:25:25.409 LabApp] JupyterLab application directory is '\n",
      " '/usr/local/share/jupyter/lab\\\\n[I 2024-05-09 22:25:25.410 LabApp] Extension '\n",
      " \"Manager is 'pypi'.\\\\n[I 2024-05-09 22:25:25.419 ServerApp] jupyterlab | \"\n",
      " 'extension was successfully loaded.\\\\n[I 2024-05-09 22:25:25.420 ServerApp] '\n",
      " 'Serving notebooks from local directory: /\\\\n[I 2024-05-09 22:25:25.420 '\n",
      " 'ServerApp] Jupyter Server 2.14.0 is running at:\\\\n[I 2024-05-09 22:25:25.420 '\n",
      " 'ServerApp] http://localhost:8888/lab\\\\n[I 2024-05-09 22:25:25.420 '\n",
      " 'ServerApp]     http://127.0.0.1:8888/lab\\\\n[I 2024-05-09 22:25:25.420 '\n",
      " 'ServerApp] Use Control-C to stop this server and shut down all kernels '\n",
      " '(twice to skip confirmation).\\\\n[I 2024-05-09 22:25:25.447 ServerApp] '\n",
      " 'Skipped non-installed server(s): bash-language-server, '\n",
      " 'dockerfile-language-server-nodejs, javascript-typescript-langserver, '\n",
      " 'jedi-language-server, julia-language-server, pyright, '\n",
      " 'python-language-server, python-lsp-server, r-languageserver, '\n",
      " 'sql-language-server, texlab, typescript-language-server, '\n",
      " 'unified-language-server, vscode-css-languageserver-bin, '\n",
      " 'vscode-html-languageserver-bin, vscode-json-languageserver-bin, '\n",
      " 'yaml-language-server\\\\n2024-05-09 22:25:25,974\\\\tINFO usage_lib.py:443 -- '\n",
      " 'Usage stats collection is disabled.\\\\n2024-05-09 22:25:25,974\\\\tINFO '\n",
      " 'scripts.py:763 -- \\\\x1b[37mLocal node IP\\\\x1b[39m: '\n",
      " '\\\\x1b[1m10.244.6.12\\\\x1b[22m\\\\n[2024-05-09 22:25:35,981 W 14 14] '\n",
      " 'global_state_accessor.cc:465: Some processes that the driver needs to '\n",
      " \"connect to have not registered with GCS, so retrying. Have you run 'ray \"\n",
      " \"start' on this node?\\\\n[2024-05-09 22:25:36,982 W 14 14] \"\n",
      " 'global_state_accessor.cc:465: Some processes that the driver needs to '\n",
      " \"connect to have not registered with GCS, so retrying. Have you run 'ray \"\n",
      " \"start' on this node?\\\\n2024-05-09 22:25:38,002\\\\tSUCC scripts.py:800 -- \"\n",
      " '\\\\x1b[32m--------------------\\\\x1b[39m\\\\n2024-05-09 22:25:38,002\\\\tSUCC '\n",
      " 'scripts.py:801 -- \\\\x1b[32mRay runtime started.\\\\x1b[39m\\\\n2024-05-09 '\n",
      " '22:25:38,002\\\\tSUCC scripts.py:802 -- '\n",
      " '\\\\x1b[32m--------------------\\\\x1b[39m\\\\n2024-05-09 22:25:38,002\\\\tINFO '\n",
      " 'scripts.py:804 -- \\\\x1b[36mNext steps\\\\x1b[39m\\\\n2024-05-09 '\n",
      " '22:25:38,002\\\\tINFO scripts.py:807 -- To add another node to this Ray '\n",
      " 'cluster, run\\\\n2024-05-09 22:25:38,002\\\\tINFO scripts.py:810 -- \\\\x1b[1m  '\n",
      " \"ray start --address='10.244.6.12:6379'\\\\x1b[22m\\\\n2024-05-09 \"\n",
      " '22:25:38,002\\\\tINFO scripts.py:819 -- To connect to this Ray '\n",
      " 'cluster:\\\\n2024-05-09 22:25:38,002\\\\tINFO scripts.py:821 -- '\n",
      " '\\\\x1b[35mimport\\\\x1b[39m\\\\x1b[26m ray\\\\n2024-05-09 22:25:38,003\\\\tINFO '\n",
      " 'scripts.py:822 -- '\n",
      " \"ray\\\\x1b[35m.\\\\x1b[39m\\\\x1b[26minit(_node_ip_address\\\\x1b[35m=\\\\x1b[39m\\\\x1b[26m\\\\x1b[33m'10.244.6.12'\\\\x1b[39m\\\\x1b[26m)\\\\n2024-05-09 \"\n",
      " '22:25:38,003\\\\tINFO scripts.py:834 -- To submit a Ray job using the Ray Jobs '\n",
      " 'CLI:\\\\n2024-05-09 22:25:38,003\\\\tINFO scripts.py:835 -- \\\\x1b[1m  '\n",
      " \"RAY_ADDRESS='http://10.244.6.12:8265' ray job submit --working-dir . -- \"\n",
      " 'python my_script.py\\\\x1b[22m\\\\n2024-05-09 22:25:38,003\\\\tINFO scripts.py:844 '\n",
      " '-- See '\n",
      " 'https://docs.ray.io/en/latest/cluster/running-applications/job-submission/index.html '\n",
      " '\\\\n2024-05-09 22:25:38,003\\\\tINFO scripts.py:848 -- for more information on '\n",
      " 'submitting Ray jobs to the Ray cluster.\\\\n2024-05-09 22:25:38,003\\\\tINFO '\n",
      " 'scripts.py:853 -- To terminate the Ray runtime, run\\\\n2024-05-09 '\n",
      " '22:25:38,003\\\\tINFO scripts.py:854 -- \\\\x1b[1m  ray '\n",
      " 'stop\\\\x1b[22m\\\\n2024-05-09 22:25:38,003\\\\tINFO scripts.py:857 -- To view the '\n",
      " 'status of the cluster, use\\\\n2024-05-09 22:25:38,003\\\\tINFO scripts.py:858 '\n",
      " '--   \\\\x1b[1mray status\\\\x1b[22m\\\\x1b[26m\\\\n2024-05-09 22:25:38,003\\\\tINFO '\n",
      " 'scripts.py:862 -- To monitor and debug Ray, view the dashboard at '\n",
      " '\\\\n2024-05-09 22:25:38,003\\\\tINFO scripts.py:863 --   '\n",
      " '\\\\x1b[1m10.244.6.12:8265\\\\x1b[22m\\\\x1b[26m\\\\n2024-05-09 22:25:38,003\\\\tINFO '\n",
      " 'scripts.py:870 -- \\\\x1b[4mIf connection to the dashboard fails, check your '\n",
      " 'firewall settings and network configuration.\\\\x1b[24m\\\\n2024-05-09 '\n",
      " '22:25:38,017\\\\tINFO utils.py:112 -- Overwriting previous Ray address '\n",
      " '(10.244.6.11:6379). Running ray.init() on this node will now connect to the '\n",
      " 'new instance at 10.244.6.12:6379. To override this behavior, pass '\n",
      " 'address=10.244.6.11:6379 to ray.init().\\\\n2024-05-09 22:25:38,073\\\\tINFO '\n",
      " 'scripts.py:971 -- \\\\x1b[36m\\\\x1b[1m--block\\\\x1b[22m\\\\x1b[39m\\\\n2024-05-09 '\n",
      " '22:25:38,073\\\\tINFO scripts.py:972 -- This command will now block forever '\n",
      " 'until terminated by a signal.\\\\n2024-05-09 22:25:38,073\\\\tINFO '\n",
      " 'scripts.py:975 -- Running subprocesses are monitored and a message will be '\n",
      " 'printed if any of them terminate unexpectedly. Subprocesses exit with '\n",
      " 'SIGTERM will be treated as graceful, thus NOT reported.\\\\n[I 2024-05-09 '\n",
      " '22:28:05.869 ServerApp] 302 GET / (@127.0.0.1) 0.42ms\\\\n[W 2024-05-09 '\n",
      " '22:28:12.262 LabApp] Could not determine jupyterlab build status without '\n",
      " 'nodejs\\\\n[I 2024-05-09 22:28:21.417 ServerApp] Writing notebook-signing key '\n",
      " 'to /root/.local/share/jupyter/notebook_secret\\\\n[W 2024-05-09 22:28:21.418 '\n",
      " 'ServerApp] Notebook home/artifacts/Ray Serve Deployment.ipynb is not '\n",
      " 'trusted\\\\n[I 2024-05-09 22:28:22.119 ServerApp] Kernel started: '\n",
      " 'd48da16e-4e77-4d9f-beda-7859ff7912d8\\\\n[I 2024-05-09 22:28:23.352 ServerApp] '\n",
      " 'Connecting to kernel d48da16e-4e77-4d9f-beda-7859ff7912d8.\\\\n[I 2024-05-09 '\n",
      " '22:28:23.485 ServerApp] Starting buffering for '\n",
      " 'd48da16e-4e77-4d9f-beda-7859ff7912d8:c988c662-4c48-4dff-bdbd-4eb67a172be5\\\\n[I '\n",
      " '2024-05-09 22:28:23.578 ServerApp] Connecting to kernel '\n",
      " 'd48da16e-4e77-4d9f-beda-7859ff7912d8.\\\\n[I 2024-05-09 22:28:23.806 '\n",
      " 'ServerApp] Connecting to kernel d48da16e-4e77-4d9f-beda-7859ff7912d8.\\\\n[I '\n",
      " '2024-05-09 22:28:29.548 ServerApp] Saving file at /home/artifacts/Ray Serve '\n",
      " 'Deployment.ipynb\\\\n[I 2024-05-09 22:28:38.426 ServerApp] New terminal with '\n",
      " 'automatic name: 1\\\\n[W 2024-05-09 22:28:51.837 ServerApp] 403 POST '\n",
      " \"/sfc-endpoint/csp-report (127.0.0.1): '_xsrf' argument missing from \"\n",
      " 'POST\\\\n[W 2024-05-09 22:28:51.848 ServerApp] 403 POST '\n",
      " '/sfc-endpoint/csp-report (b6075e60a44044159e2cc8adce07cd14@127.0.0.1) '\n",
      " '11.94ms referer=None\\\\n[I 2024-05-09 22:29:20.279 ServerApp] Kernel '\n",
      " 'restarted: d48da16e-4e77-4d9f-beda-7859ff7912d8\\\\n[I 2024-05-09 22:29:20.355 '\n",
      " 'ServerApp] Starting buffering for '\n",
      " 'd48da16e-4e77-4d9f-beda-7859ff7912d8:cf9bedfd-dc3e-450f-a65a-94000c0daac3\\\\n[I '\n",
      " '2024-05-09 22:29:20.511 ServerApp] Connecting to kernel '\n",
      " 'd48da16e-4e77-4d9f-beda-7859ff7912d8.\\\\n[I 2024-05-09 22:29:20.511 '\n",
      " 'ServerApp] Restoring connection for '\n",
      " 'd48da16e-4e77-4d9f-beda-7859ff7912d8:cf9bedfd-dc3e-450f-a65a-94000c0daac3\\\\n[2024-05-09 '\n",
      " '22:29:30,880 I 713 713] logging.cc:230: Set ray log level from environment '\n",
      " 'variable RAY_BACKEND_LOG_LEVEL to -1\\\\n[I 2024-05-09 22:29:50.188 ServerApp] '\n",
      " 'Kernel interrupted: d48da16e-4e77-4d9f-beda-7859ff7912d8\\\\n[W 2024-05-09 '\n",
      " '22:29:51.829 ServerApp] 403 POST /sfc-endpoint/csp-report (127.0.0.1): '\n",
      " \"'_xsrf' argument missing from POST\\\\n[W 2024-05-09 22:29:51.830 ServerApp] \"\n",
      " '403 POST /sfc-endpoint/csp-report '\n",
      " '(2f58e7d2508d49dcaeaec42c2124165b@127.0.0.1) 1.69ms referer=None\\\\n[I '\n",
      " '2024-05-09 22:30:15.064 ServerApp] Saving file at /home/artifacts/Ray Serve '\n",
      " 'Deployment.ipynb\\\\n[I 2024-05-09 22:30:30.662 ServerApp] Kernel restarted: '\n",
      " 'd48da16e-4e77-4d9f-beda-7859ff7912d8\\\\n[I 2024-05-09 22:30:30.738 ServerApp] '\n",
      " 'Starting buffering for '\n",
      " 'd48da16e-4e77-4d9f-beda-7859ff7912d8:cf9bedfd-dc3e-450f-a65a-94000c0daac3\\\\n[I '\n",
      " '2024-05-09 22:30:31.812 ServerApp] Connecting to kernel '\n",
      " 'd48da16e-4e77-4d9f-beda-7859ff7912d8.\\\\n[I 2024-05-09 22:30:31.812 '\n",
      " 'ServerApp] Restoring connection for '\n",
      " 'd48da16e-4e77-4d9f-beda-7859ff7912d8:cf9bedfd-dc3e-450f-a65a-94000c0daac3\\\\n[I '\n",
      " '2024-05-09 22:30:31.819 ServerApp] Replaying 3 buffered messages\\\\n[I '\n",
      " '2024-05-09 22:30:33.284 ServerApp] Saving file at /home/artifacts/Ray Serve '\n",
      " 'Deployment.ipynb\\\\n[2024-05-09 22:30:41,649 I 895 895] logging.cc:230: Set '\n",
      " 'ray log level from environment variable RAY_BACKEND_LOG_LEVEL to -1\\\\n[I '\n",
      " '2024-05-09 22:30:51.196 ServerApp] Saving file at /home/artifacts/Ray Serve '\n",
      " 'Deployment.ipynb\\\\n[W 2024-05-09 22:31:08.841 ServerApp] 404 GET '\n",
      " '/api/contents/cbhandles.pyx?content=0&hash=0&1715293868809 '\n",
      " '(2f58e7d2508d49dcaeaec42c2124165b@127.0.0.1) 0.99ms '\n",
      " 'referer=https://nlwmm-sfsenorthamerica-demo274-awseast.snowflakecomputing.app/lab/tree/home/artifacts\\\\n[W '\n",
      " '2024-05-09 22:31:08.841 ServerApp] 404 GET '\n",
      " '/api/contents/cbhandles.pyx?content=0&hash=0&1715293868809 (127.0.0.1): No '\n",
      " 'such file or directory: cbhandles.pyx\\\\n[W 2024-05-09 22:31:09.097 '\n",
      " 'ServerApp] 404 GET '\n",
      " '/api/contents/cbhandles.pyx?content=0&hash=0&1715293869067 '\n",
      " '(2f58e7d2508d49dcaeaec42c2124165b@127.0.0.1) 0.86ms '\n",
      " 'referer=https://nlwmm-sfsenorthamerica-demo274-awseast.snowflakecomputing.app/lab/tree/home/artifacts\\\\n[W '\n",
      " '2024-05-09 22:31:09.097 ServerApp] 404 GET '\n",
      " '/api/contents/cbhandles.pyx?content=0&hash=0&1715293869067 (127.0.0.1): No '\n",
      " 'such file or directory: cbhandles.pyx\\\\n[W 2024-05-09 22:31:14.172 '\n",
      " 'ServerApp] 404 GET '\n",
      " '/api/contents/cbhandles.pyx?content=0&hash=0&1715293874142 '\n",
      " '(2f58e7d2508d49dcaeaec42c2124165b@127.0.0.1) 0.85ms '\n",
      " 'referer=https://nlwmm-sfsenorthamerica-demo274-awseast.snowflakecomputing.app/lab/tree/home/artifacts\\\\n[W '\n",
      " '2024-05-09 22:31:14.172 ServerApp] 404 GET '\n",
      " '/api/contents/cbhandles.pyx?content=0&hash=0&1715293874142 (127.0.0.1): No '\n",
      " 'such file or directory: cbhandles.pyx\\\\n[W 2024-05-09 22:31:14.390 '\n",
      " 'ServerApp] 404 GET '\n",
      " '/api/contents/cbhandles.pyx?content=0&hash=0&1715293874360 '\n",
      " '(2f58e7d2508d49dcaeaec42c2124165b@127.0.0.1) 0.97ms '\n",
      " 'referer=https://nlwmm-sfsenorthamerica-demo274-awseast.snowflakecomputing.app/lab/tree/home/artifacts\\\\n[W '\n",
      " '2024-05-09 22:31:14.390 ServerApp] 404 GET '\n",
      " '/api/contents/cbhandles.pyx?content=0&hash=0&1715293874360 (127.0.0.1): No '\n",
      " 'such file or directory: cbhandles.pyx\\\\n[W 2024-05-09 22:31:24.043 '\n",
      " 'ServerApp] 404 GET '\n",
      " '/api/contents/cbhandles.pyx?content=0&hash=0&1715293884010 '\n",
      " '(2f58e7d2508d49dcaeaec42c2124165b@127.0.0.1) 0.90ms '\n",
      " 'referer=https://nlwmm-sfsenorthamerica-demo274-awseast.snowflakecomputing.app/lab/tree/home/artifacts\\\\n[W '\n",
      " '2024-05-09 22:31:24.043 ServerApp] 404 GET '\n",
      " '/api/contents/cbhandles.pyx?content=0&hash=0&1715293884010 (127.0.0.1): No '\n",
      " 'such file or directory: cbhandles.pyx\\\\n[W 2024-05-09 22:31:25.385 '\n",
      " 'ServerApp] 404 GET '\n",
      " '/api/contents/cbhandles.pyx?content=0&hash=0&1715293884286 '\n",
      " '(2f58e7d2508d49dcaeaec42c2124165b@127.0.0.1) 0.89ms '\n",
      " 'referer=https://nlwmm-sfsenorthamerica-demo274-awseast.snowflakecomputing.app/lab/tree/home/artifacts\\\\n[W '\n",
      " '2024-05-09 22:31:25.385 ServerApp] 404 GET '\n",
      " '/api/contents/cbhandles.pyx?content=0&hash=0&1715293884286 (127.0.0.1): No '\n",
      " 'such file or directory: cbhandles.pyx\\\\n[W 2024-05-09 22:31:25.666 '\n",
      " 'ServerApp] 404 GET '\n",
      " '/api/contents/cbhandles.pyx?content=0&hash=0&1715293885634 '\n",
      " '(2f58e7d2508d49dcaeaec42c2124165b@127.0.0.1) 0.89ms '\n",
      " 'referer=https://nlwmm-sfsenorthamerica-demo274-awseast.snowflakecomputing.app/lab/tree/home/artifacts\\\\n[W '\n",
      " '2024-05-09 22:31:25.667 ServerApp] 404 GET '\n",
      " '/api/contents/cbhandles.pyx?content=0&hash=0&1715293885634 (127.0.0.1): No '\n",
      " 'such file or directory: cbhandles.pyx\\\\n[W 2024-05-09 22:31:44.992 '\n",
      " 'ServerApp] 404 GET '\n",
      " '/api/contents/cbhandles.pyx?content=0&hash=0&1715293904960 '\n",
      " '(2f58e7d2508d49dcaeaec42c2124165b@127.0.0.1) 0.87ms '\n",
      " 'referer=https://nlwmm-sfsenorthamerica-demo274-awseast.snowflakecomputing.app/lab/tree/home/artifacts\\\\n[W '\n",
      " '2024-05-09 22:31:44.992 ServerApp] 404 GET '\n",
      " '/api/contents/cbhandles.pyx?content=0&hash=0&1715293904960 (127.0.0.1): No '\n",
      " 'such file or directory: cbhandles.pyx\\\\n[W 2024-05-09 22:31:46.563 '\n",
      " 'ServerApp] 404 GET '\n",
      " '/api/contents/cbhandles.pyx?content=0&hash=0&1715293906533 '\n",
      " '(2f58e7d2508d49dcaeaec42c2124165b@127.0.0.1) 1.15ms '\n",
      " 'referer=https://nlwmm-sfsenorthamerica-demo274-awseast.snowflakecomputing.app/lab/tree/home/artifacts\\\\n[W '\n",
      " '2024-05-09 22:31:46.563 ServerApp] 404 GET '\n",
      " '/api/contents/cbhandles.pyx?content=0&hash=0&1715293906533 (127.0.0.1): No '\n",
      " 'such file or directory: cbhandles.pyx\\\\n[W 2024-05-09 22:31:46.813 '\n",
      " 'ServerApp] 404 GET '\n",
      " '/api/contents/cbhandles.pyx?content=0&hash=0&1715293906782 '\n",
      " '(2f58e7d2508d49dcaeaec42c2124165b@127.0.0.1) 0.91ms '\n",
      " 'referer=https://nlwmm-sfsenorthamerica-demo274-awseast.snowflakecomputing.app/lab/tree/home/artifacts\\\\n[W '\n",
      " '2024-05-09 22:31:46.813 ServerApp] 404 GET '\n",
      " '/api/contents/cbhandles.pyx?content=0&hash=0&1715293906782 (127.0.0.1): No '\n",
      " 'such file or directory: cbhandles.pyx\\\\n[W 2024-05-09 22:31:51.840 '\n",
      " \"ServerApp] 403 POST /sfc-endpoint/csp-report (127.0.0.1): '_xsrf' argument \"\n",
      " 'missing from POST\\\\n[W 2024-05-09 22:31:51.841 ServerApp] 403 POST '\n",
      " '/sfc-endpoint/csp-report (885b9b995fbf425880e896f513536a33@127.0.0.1) 1.58ms '\n",
      " 'referer=None\\\\n[W 2024-05-09 22:32:15.042 ServerApp] 404 GET '\n",
      " '/api/contents/cbhandles.pyx?content=0&hash=0&1715293933775 '\n",
      " '(885b9b995fbf425880e896f513536a33@127.0.0.1) 0.94ms '\n",
      " 'referer=https://nlwmm-sfsenorthamerica-demo274-awseast.snowflakecomputing.app/lab/tree/home/artifacts/Ray%20Serve%20Deployment.ipynb\\\\n[W '\n",
      " '2024-05-09 22:32:15.042 ServerApp] 404 GET '\n",
      " '/api/contents/cbhandles.pyx?content=0&hash=0&1715293933775 (127.0.0.1): No '\n",
      " 'such file or directory: cbhandles.pyx\\\\n[W 2024-05-09 22:32:15.310 '\n",
      " 'ServerApp] 404 GET '\n",
      " '/api/contents/cbhandles.pyx?content=0&hash=0&1715293935281 '\n",
      " '(885b9b995fbf425880e896f513536a33@127.0.0.1) 0.86ms '\n",
      " 'referer=https://nlwmm-sfsenorthamerica-demo274-awseast.snowflakecomputing.app/lab/tree/home/artifacts/Ray%20Serve%20Deployment.ipynb\\\\n[W '\n",
      " '2024-05-09 22:32:15.310 ServerApp] 404 GET '\n",
      " '/api/contents/cbhandles.pyx?content=0&hash=0&1715293935281 (127.0.0.1): No '\n",
      " 'such file or directory: cbhandles.pyx\\\\n[W 2024-05-09 22:32:16.770 '\n",
      " 'ServerApp] 404 GET '\n",
      " '/api/contents/cbhandles.pyx?content=0&hash=0&1715293936741 '\n",
      " '(885b9b995fbf425880e896f513536a33@127.0.0.1) 0.87ms '\n",
      " 'referer=https://nlwmm-sfsenorthamerica-demo274-awseast.snowflakecomputing.app/lab/tree/home/artifacts/Ray%20Serve%20Deployment.ipynb\\\\n[W '\n",
      " '2024-05-09 22:32:16.770 ServerApp] 404 GET '\n",
      " '/api/contents/cbhandles.pyx?content=0&hash=0&1715293936741 (127.0.0.1): No '\n",
      " 'such file or directory: cbhandles.pyx\\\\n[W 2024-05-09 22:32:46.488 '\n",
      " 'ServerApp] 404 GET '\n",
      " '/api/contents/cbhandles.pyx?content=0&hash=0&1715293965508 '\n",
      " '(885b9b995fbf425880e896f513536a33@127.0.0.1) 1.09ms '\n",
      " 'referer=https://nlwmm-sfsenorthamerica-demo274-awseast.snowflakecomputing.app/lab/tree/home/artifacts/Ray%20Serve%20Deployment.ipynb\\\\n[W '\n",
      " '2024-05-09 22:32:46.488 ServerApp] 404 GET '\n",
      " '/api/contents/cbhandles.pyx?content=0&hash=0&1715293965508 (127.0.0.1): No '\n",
      " 'such file or directory: cbhandles.pyx\\\\n[W 2024-05-09 22:32:46.753 '\n",
      " 'ServerApp] 404 GET '\n",
      " '/api/contents/cbhandles.pyx?content=0&hash=0&1715293966724 '\n",
      " '(885b9b995fbf425880e896f513536a33@127.0.0.1) 0.95ms '\n",
      " 'referer=https://nlwmm-sfsenorthamerica-demo274-awseast.snowflakecomputing.app/lab/tree/home/artifacts/Ray%20Serve%20Deployment.ipynb\\\\n[W '\n",
      " '2024-05-09 22:32:46.753 ServerApp] 404 GET '\n",
      " '/api/contents/cbhandles.pyx?content=0&hash=0&1715293966724 (127.0.0.1): No '\n",
      " 'such file or directory: cbhandles.pyx\\\\n[W 2024-05-09 22:32:47.011 '\n",
      " 'ServerApp] 404 GET '\n",
      " '/api/contents/cbhandles.pyx?content=0&hash=0&1715293966982 '\n",
      " '(885b9b995fbf425880e896f513536a33@127.0.0.1) 0.89ms '\n",
      " 'referer=https://nlwmm-sfsenorthamerica-demo274-awseast.snowflakecomputing.app/lab/tree/home/artifacts/Ray%20Serve%20Deployment.ipynb\\\\n[W '\n",
      " '2024-05-09 22:32:47.011 ServerApp] 404 GET '\n",
      " '/api/contents/cbhandles.pyx?content=0&hash=0&1715293966982 (127.0.0.1): No '\n",
      " 'such file or directory: cbhandles.pyx\\\\n[W 2024-05-09 22:32:51.925 '\n",
      " 'ServerApp] 404 GET '\n",
      " '/api/contents/cbhandles.pyx?content=0&hash=0&1715293971897 '\n",
      " '(885b9b995fbf425880e896f513536a33@127.0.0.1) 0.91ms '\n",
      " 'referer=https://nlwmm-sfsenorthamerica-demo274-awseast.snowflakecomputing.app/lab/tree/home/artifacts/Ray%20Serve%20Deployment.ipynb\\\\n[W '\n",
      " '2024-05-09 22:32:51.925 ServerApp] 404 GET '\n",
      " '/api/contents/cbhandles.pyx?content=0&hash=0&1715293971897 (127.0.0.1): No '\n",
      " 'such file or directory: cbhandles.pyx\\\\n[I 2024-05-09 22:32:52.359 '\n",
      " 'ServerApp] Saving file at /home/artifacts/Ray Serve Deployment.ipynb\\\\n[W '\n",
      " '2024-05-09 22:32:55.567 ServerApp] 404 GET '\n",
      " '/api/contents/cbhandles.pyx?content=0&hash=0&1715293975540 '\n",
      " '(885b9b995fbf425880e896f513536a33@127.0.0.1) 0.87ms '\n",
      " 'referer=https://nlwmm-sfsenorthamerica-demo274-awseast.snowflakecomputing.app/lab/tree/home/artifacts/Ray%20Serve%20Deployment.ipynb\\\\n[W '\n",
      " '2024-05-09 22:32:55.568 ServerApp] 404 GET '\n",
      " '/api/contents/cbhandles.pyx?content=0&hash=0&1715293975540 (127.0.0.1): No '\n",
      " 'such file or directory: cbhandles.pyx\\\\n[W 2024-05-09 22:32:57.186 '\n",
      " 'ServerApp] 404 GET '\n",
      " '/api/contents/cbhandles.pyx?content=0&hash=0&1715293977159 '\n",
      " '(885b9b995fbf425880e896f513536a33@127.0.0.1) 0.99ms '\n",
      " 'referer=https://nlwmm-sfsenorthamerica-demo274-awseast.snowflakecomputing.app/lab/tree/home/artifacts/Ray%20Serve%20Deployment.ipynb\\\\n[W '\n",
      " '2024-05-09 22:32:57.186 ServerApp] 404 GET '\n",
      " '/api/contents/cbhandles.pyx?content=0&hash=0&1715293977159 (127.0.0.1): No '\n",
      " 'such file or directory: cbhandles.pyx\\\\n[I 2024-05-09 22:34:55.955 '\n",
      " 'ServerApp] Saving file at /home/artifacts/Ray Serve Deployment.ipynb\\\\n\"}]')\n"
     ]
    }
   ],
   "source": [
    "pprint(snowflake_ray.get_ray_head_logs())"
   ]
  },
  {
   "cell_type": "markdown",
   "id": "e31eeb52",
   "metadata": {},
   "source": [
    "### Get ray worker service status"
   ]
  },
  {
   "cell_type": "code",
   "execution_count": 19,
   "id": "973577b1",
   "metadata": {},
   "outputs": [
    {
     "name": "stdout",
     "output_type": "stream",
     "text": [
      "[{'containerName': 'worker',\n",
      "  'image': 'sfsenorthamerica-demo274-awseast.registry.snowflakecomputing.com/ray_db/ray_schema/spcs_ray_image_repollmserving/ray_worker:cfdb32c304b1ce29fc54c1af236deb2be8251f17',\n",
      "  'instanceId': '0',\n",
      "  'message': 'Running',\n",
      "  'restartCount': 0,\n",
      "  'serviceName': 'SPCSRAYWORKERSERVICELLMSERVING',\n",
      "  'startTime': '2024-05-09T22:25:30Z',\n",
      "  'status': 'READY'},\n",
      " {'containerName': 'worker',\n",
      "  'image': 'sfsenorthamerica-demo274-awseast.registry.snowflakecomputing.com/ray_db/ray_schema/spcs_ray_image_repollmserving/ray_worker:cfdb32c304b1ce29fc54c1af236deb2be8251f17',\n",
      "  'instanceId': '1',\n",
      "  'message': 'Running',\n",
      "  'restartCount': 0,\n",
      "  'serviceName': 'SPCSRAYWORKERSERVICELLMSERVING',\n",
      "  'startTime': '2024-05-09T22:25:30Z',\n",
      "  'status': 'READY'}]\n"
     ]
    }
   ],
   "source": [
    "pprint(snowflake_ray.get_ray_worker_service_status())"
   ]
  },
  {
   "cell_type": "markdown",
   "id": "267b8f96",
   "metadata": {},
   "source": [
    "### Get ray worker logs"
   ]
  },
  {
   "cell_type": "code",
   "execution_count": 20,
   "id": "dbe0fe80",
   "metadata": {},
   "outputs": [
    {
     "name": "stdout",
     "output_type": "stream",
     "text": [
      "(\"[{'SYSTEM$GET_SERVICE_LOGS': '+ WORKLOAD=rayworker\\\\n++ ifconfig eth0\\\\n++ \"\n",
      " \"sed -En -e \\\\'s/.*inet ([0-9.]+).*/\\\\\\\\1/p\\\\'\\\\n+ eth0Ip=10.244.4.12\\\\n+ \"\n",
      " \"echo \\\\'WORKLOAD: rayworker\\\\'\\\\nWORKLOAD: rayworker\\\\n+ \\\\'[\\\\' rayworker \"\n",
      " \"== rayhead \\\\']\\\\'\\\\n+ \\\\'[\\\\' rayworker == rayworker \\\\']\\\\'\\\\n+ \\\\'[\\\\' -z \"\n",
      " \"SPCSRAYHEADSERVICELLMSERVING:6379 \\\\']\\\\'\\\\n+ export \"\n",
      " 'RAY_ENABLE_RECORD_ACTOR_TASK_LOGGING=1\\\\n+ '\n",
      " 'RAY_ENABLE_RECORD_ACTOR_TASK_LOGGING=1\\\\n+ export '\n",
      " 'RAY_BACKEND_LOG_LEVEL=debug\\\\n+ RAY_BACKEND_LOG_LEVEL=debug\\\\n+ export '\n",
      " 'HOST_IP=10.244.4.12\\\\n+ HOST_IP=10.244.4.12\\\\n+ export NCCL_DEBUG=INFO\\\\n+ '\n",
      " 'NCCL_DEBUG=INFO\\\\n+ export NCCL_SOCKET_IFNAME=eth0\\\\n+ '\n",
      " 'NCCL_SOCKET_IFNAME=eth0\\\\n+ ray start --node-ip-address=10.244.4.12 '\n",
      " '--disable-usage-stats --address=SPCSRAYHEADSERVICELLMSERVING:6379 '\n",
      " '\\\\\\'--resources={\"custom_llm_serving_label\": 1}\\\\\\' '\n",
      " '--object-manager-port=8076 --node-manager-port=8077 '\n",
      " '--runtime-env-agent-port=8078 --dashboard-agent-grpc-port=8079 '\n",
      " '--dashboard-agent-listen-port=8081 --metrics-export-port=8082 '\n",
      " '--block\\\\n2024-05-09 22:25:32,298\\\\tINFO scripts.py:945 -- \\\\x1b[37mLocal '\n",
      " 'node IP\\\\x1b[39m: \\\\x1b[1m10.244.4.12\\\\x1b[22m\\\\n[2024-05-09 22:25:36,414 W '\n",
      " '10 10] global_state_accessor.cc:465: Some processes that the driver needs to '\n",
      " \"connect to have not registered with GCS, so retrying. Have you run \\\\'ray \"\n",
      " \"start\\\\' on this node?\\\\n2024-05-09 22:25:37,440\\\\tSUCC scripts.py:958 -- \"\n",
      " '\\\\x1b[32m--------------------\\\\x1b[39m\\\\n2024-05-09 22:25:37,440\\\\tSUCC '\n",
      " 'scripts.py:959 -- \\\\x1b[32mRay runtime started.\\\\x1b[39m\\\\n2024-05-09 '\n",
      " '22:25:37,441\\\\tSUCC scripts.py:960 -- '\n",
      " '\\\\x1b[32m--------------------\\\\x1b[39m\\\\n2024-05-09 22:25:37,441\\\\tINFO '\n",
      " 'scripts.py:962 -- To terminate the Ray runtime, run\\\\n2024-05-09 '\n",
      " '22:25:37,441\\\\tINFO scripts.py:963 -- \\\\x1b[1m  ray '\n",
      " 'stop\\\\x1b[22m\\\\n2024-05-09 22:25:37,441\\\\tINFO scripts.py:971 -- '\n",
      " '\\\\x1b[36m\\\\x1b[1m--block\\\\x1b[22m\\\\x1b[39m\\\\n2024-05-09 22:25:37,441\\\\tINFO '\n",
      " 'scripts.py:972 -- This command will now block forever until terminated by a '\n",
      " 'signal.\\\\n2024-05-09 22:25:37,441\\\\tINFO scripts.py:975 -- Running '\n",
      " 'subprocesses are monitored and a message will be printed if any of them '\n",
      " 'terminate unexpectedly. Subprocesses exit with SIGTERM will be treated as '\n",
      " \"graceful, thus NOT reported.\\\\n'}]\")\n"
     ]
    }
   ],
   "source": [
    "pprint(snowflake_ray.get_ray_worker_logs())"
   ]
  },
  {
   "cell_type": "markdown",
   "id": "d5825970",
   "metadata": {},
   "source": [
    "### Delete all services"
   ]
  },
  {
   "cell_type": "code",
   "execution_count": null,
   "id": "c9497d1e",
   "metadata": {},
   "outputs": [
    {
     "name": "stderr",
     "output_type": "stream",
     "text": [
      "INFO:snowflakeray.deploy_client.utils.cluster_init_helper:Deleted service: SPCSRAYHEADSERVICELLMSERVING\n",
      "INFO:snowflakeray.deploy_client.utils.cluster_init_helper:Deleted service: SPCSRAYWORKERSERVICELLMSERVING\n"
     ]
    }
   ],
   "source": [
    "#snowflake_ray.delete_all_services()"
   ]
  },
  {
   "cell_type": "markdown",
   "id": "b7df8643",
   "metadata": {},
   "source": [
    "### Suspend all compute pools"
   ]
  },
  {
   "cell_type": "code",
   "execution_count": 24,
   "id": "b35383ec",
   "metadata": {},
   "outputs": [
    {
     "name": "stderr",
     "output_type": "stream",
     "text": [
      "INFO:snowflakeray.deploy_client.utils.cluster_init_helper:Deleted service: SPCSRAYHEADSERVICELLMSERVINGFORSUMMIT\n",
      "INFO:snowflakeray.deploy_client.utils.cluster_init_helper:Deleted service: SPCSRAYWORKERSERVICELLMSERVINGFORSUMMIT\n",
      "INFO:snowflakeray.deploy_client.utils.cluster_init_helper:Suspended compute pool: RAY_HEAD_CP_LLM_SERVING_TEST\n",
      "INFO:snowflakeray.deploy_client.utils.cluster_init_helper:Suspended compute pool: RAY_WORKER_CP_LLM_SERVING_TEST\n"
     ]
    }
   ],
   "source": [
    "#snowflake_ray.suspend_all_compute_pools()"
   ]
  },
  {
   "cell_type": "markdown",
   "id": "ef140814",
   "metadata": {},
   "source": [
    "### Delete all compute pools"
   ]
  },
  {
   "cell_type": "code",
   "execution_count": 21,
   "id": "1874529a",
   "metadata": {},
   "outputs": [
    {
     "name": "stderr",
     "output_type": "stream",
     "text": [
      "INFO:snowflakeray.deploy_client.utils.cluster_init_helper:Deleted service: SPCSRAYHEADSERVICELLMSERVING\n",
      "INFO:snowflakeray.deploy_client.utils.cluster_init_helper:Deleted service: SPCSRAYWORKERSERVICELLMSERVING\n",
      "INFO:snowflakeray.deploy_client.utils.cluster_init_helper:Deleted compute pool: RAY_HEAD_CP_LLM_SERVING\n",
      "INFO:snowflakeray.deploy_client.utils.cluster_init_helper:Deleted compute pool: RAY_WORKER_CP_LLM_SERVING\n"
     ]
    }
   ],
   "source": [
    "snowflake_ray.delete_all_compute_pools()"
   ]
  },
  {
   "cell_type": "markdown",
   "id": "42f8ef7a",
   "metadata": {},
   "source": [
    "### Close snowpark session"
   ]
  },
  {
   "cell_type": "code",
   "execution_count": 22,
   "id": "57442c3b",
   "metadata": {},
   "outputs": [],
   "source": [
    "session.close()"
   ]
  },
  {
   "cell_type": "code",
   "execution_count": null,
   "id": "ea6680d7",
   "metadata": {},
   "outputs": [],
   "source": []
  }
 ],
 "metadata": {
  "environment": {
   "kernel": "conda-root-py",
   "name": "workbench-notebooks.m113",
   "type": "gcloud",
   "uri": "gcr.io/deeplearning-platform-release/workbench-notebooks:m113"
  },
  "kernelspec": {
   "display_name": "hdsupplyvertex",
   "language": "python",
   "name": "python3"
  },
  "language_info": {
   "codemirror_mode": {
    "name": "ipython",
    "version": 3
   },
   "file_extension": ".py",
   "mimetype": "text/x-python",
   "name": "python",
   "nbconvert_exporter": "python",
   "pygments_lexer": "ipython3",
   "version": "3.10.14"
  },
  "toc-showcode": false
 },
 "nbformat": 4,
 "nbformat_minor": 5
}
